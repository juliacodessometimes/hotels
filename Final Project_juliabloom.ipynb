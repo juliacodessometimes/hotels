{
 "cells": [
  {
   "cell_type": "code",
   "execution_count": 1,
   "metadata": {},
   "outputs": [],
   "source": [
    "import pandas as pd\n",
    "import json\n",
    "from pandas.io.json import json_normalize\n",
    "import os, json\n",
    "import glob\n",
    "import csv\n",
    "import re\n",
    "import matplotlib.pyplot as plt\n",
    "\n",
    "import warnings\n",
    "warnings.filterwarnings('ignore')\n",
    "\n",
    "import pandas as pd\n",
    "\n",
    "from collections import Counter\n",
    "import spacy\n",
    "from fuzzywuzzy import fuzz\n",
    "from fuzzywuzzy import process\n",
    "\n",
    "import numpy as np\n",
    "import re\n",
    "from string import punctuation\n",
    "from nltk.corpus import stopwords\n",
    "from nltk import word_tokenize\n",
    "from sklearn.feature_extraction.text import CountVectorizer\n",
    "from sklearn.feature_extraction.text import TfidfTransformer\n",
    "from sklearn.feature_extraction.text import TfidfVectorizer\n",
    "import pandas as pd\n",
    "import itertools\n",
    "\n",
    "from textatistic import Textatistic\n",
    "from tabulate import tabulate"
   ]
  },
  {
   "cell_type": "markdown",
   "metadata": {},
   "source": [
    "All data downloaded from the following links:\n",
    "\n",
    "Trip Advisor Dataset: http://times.cs.uiuc.edu/~wang296/Data/ Contains reviews for almost 2,000 hotels. Each review also contains variables for overall rating of the hotel (out of 5), ratings for Value, Service, and Cleanliness, and whether others found the review helpful.\n",
    "\n",
    "Yelp Data: https://www.yelp.com/dataset/ The yelp dataset contains reviews for businesses, including hotels and restaurants. The review dataset also has variables for number of stars reviewers left, number of 'likes' that review received, date of review, among other variables."
   ]
  },
  {
   "cell_type": "markdown",
   "metadata": {},
   "source": [
    "## NLP Final Project --- Preparing the Data"
   ]
  },
  {
   "cell_type": "markdown",
   "metadata": {},
   "source": [
    "The goal of this section is to reduce the amount of data we're dealing with, and do some cleaning to ensure we have all the information we need for the NLP."
   ]
  },
  {
   "cell_type": "markdown",
   "metadata": {},
   "source": [
    "First we'll start with the Yelp data, then move on to Trip Advisor. All data was downloaded in multiple json files."
   ]
  },
  {
   "cell_type": "markdown",
   "metadata": {},
   "source": [
    "### Yelp data"
   ]
  },
  {
   "cell_type": "markdown",
   "metadata": {},
   "source": [
    "The Yelp data I'm using comes in two files: one with all the businesses data, and one with all the reviews."
   ]
  },
  {
   "cell_type": "code",
   "execution_count": 2,
   "metadata": {},
   "outputs": [],
   "source": [
    "## reading in business file\n",
    "data = [json.loads(line) for line in open('business.json', 'r', encoding='utf8')]\n",
    "\n",
    "## putting them in a pandas dataframe because I'm more comfortable tranforming data this way\n",
    "yelp_business = pd.DataFrame.from_dict(json_normalize(data), orient='columns')"
   ]
  },
  {
   "cell_type": "code",
   "execution_count": 3,
   "metadata": {},
   "outputs": [
    {
     "data": {
      "text/html": [
       "<div>\n",
       "<style scoped>\n",
       "    .dataframe tbody tr th:only-of-type {\n",
       "        vertical-align: middle;\n",
       "    }\n",
       "\n",
       "    .dataframe tbody tr th {\n",
       "        vertical-align: top;\n",
       "    }\n",
       "\n",
       "    .dataframe thead th {\n",
       "        text-align: right;\n",
       "    }\n",
       "</style>\n",
       "<table border=\"1\" class=\"dataframe\">\n",
       "  <thead>\n",
       "    <tr style=\"text-align: right;\">\n",
       "      <th></th>\n",
       "      <th>business_id</th>\n",
       "      <th>name</th>\n",
       "      <th>address</th>\n",
       "      <th>city</th>\n",
       "      <th>state</th>\n",
       "      <th>postal_code</th>\n",
       "      <th>latitude</th>\n",
       "      <th>longitude</th>\n",
       "      <th>stars</th>\n",
       "      <th>review_count</th>\n",
       "      <th>...</th>\n",
       "      <th>attributes.BYOBCorkage</th>\n",
       "      <th>attributes.DriveThru</th>\n",
       "      <th>attributes.Smoking</th>\n",
       "      <th>attributes.AgesAllowed</th>\n",
       "      <th>attributes.HairSpecializesIn</th>\n",
       "      <th>attributes.Corkage</th>\n",
       "      <th>attributes.BYOB</th>\n",
       "      <th>attributes.DietaryRestrictions</th>\n",
       "      <th>attributes.Open24Hours</th>\n",
       "      <th>attributes.RestaurantsCounterService</th>\n",
       "    </tr>\n",
       "  </thead>\n",
       "  <tbody>\n",
       "    <tr>\n",
       "      <td>0</td>\n",
       "      <td>1SWheh84yJXfytovILXOAQ</td>\n",
       "      <td>Arizona Biltmore Golf Club</td>\n",
       "      <td>2818 E Camino Acequia Drive</td>\n",
       "      <td>Phoenix</td>\n",
       "      <td>AZ</td>\n",
       "      <td>85016</td>\n",
       "      <td>33.522143</td>\n",
       "      <td>-112.018481</td>\n",
       "      <td>3.0</td>\n",
       "      <td>5</td>\n",
       "      <td>...</td>\n",
       "      <td>NaN</td>\n",
       "      <td>NaN</td>\n",
       "      <td>NaN</td>\n",
       "      <td>NaN</td>\n",
       "      <td>NaN</td>\n",
       "      <td>NaN</td>\n",
       "      <td>NaN</td>\n",
       "      <td>NaN</td>\n",
       "      <td>NaN</td>\n",
       "      <td>NaN</td>\n",
       "    </tr>\n",
       "    <tr>\n",
       "      <td>1</td>\n",
       "      <td>QXAEGFB4oINsVuTFxEYKFQ</td>\n",
       "      <td>Emerald Chinese Restaurant</td>\n",
       "      <td>30 Eglinton Avenue W</td>\n",
       "      <td>Mississauga</td>\n",
       "      <td>ON</td>\n",
       "      <td>L5R 3E7</td>\n",
       "      <td>43.605499</td>\n",
       "      <td>-79.652289</td>\n",
       "      <td>2.5</td>\n",
       "      <td>128</td>\n",
       "      <td>...</td>\n",
       "      <td>NaN</td>\n",
       "      <td>NaN</td>\n",
       "      <td>NaN</td>\n",
       "      <td>NaN</td>\n",
       "      <td>NaN</td>\n",
       "      <td>NaN</td>\n",
       "      <td>NaN</td>\n",
       "      <td>NaN</td>\n",
       "      <td>NaN</td>\n",
       "      <td>NaN</td>\n",
       "    </tr>\n",
       "  </tbody>\n",
       "</table>\n",
       "<p>2 rows × 60 columns</p>\n",
       "</div>"
      ],
      "text/plain": [
       "              business_id                        name  \\\n",
       "0  1SWheh84yJXfytovILXOAQ  Arizona Biltmore Golf Club   \n",
       "1  QXAEGFB4oINsVuTFxEYKFQ  Emerald Chinese Restaurant   \n",
       "\n",
       "                       address         city state postal_code   latitude  \\\n",
       "0  2818 E Camino Acequia Drive      Phoenix    AZ       85016  33.522143   \n",
       "1         30 Eglinton Avenue W  Mississauga    ON     L5R 3E7  43.605499   \n",
       "\n",
       "    longitude  stars  review_count  ...  attributes.BYOBCorkage  \\\n",
       "0 -112.018481    3.0             5  ...                     NaN   \n",
       "1  -79.652289    2.5           128  ...                     NaN   \n",
       "\n",
       "  attributes.DriveThru  attributes.Smoking attributes.AgesAllowed  \\\n",
       "0                  NaN                 NaN                    NaN   \n",
       "1                  NaN                 NaN                    NaN   \n",
       "\n",
       "  attributes.HairSpecializesIn attributes.Corkage attributes.BYOB  \\\n",
       "0                          NaN                NaN             NaN   \n",
       "1                          NaN                NaN             NaN   \n",
       "\n",
       "  attributes.DietaryRestrictions attributes.Open24Hours  \\\n",
       "0                            NaN                    NaN   \n",
       "1                            NaN                    NaN   \n",
       "\n",
       "  attributes.RestaurantsCounterService  \n",
       "0                                  NaN  \n",
       "1                                  NaN  \n",
       "\n",
       "[2 rows x 60 columns]"
      ]
     },
     "execution_count": 3,
     "metadata": {},
     "output_type": "execute_result"
    }
   ],
   "source": [
    "yelp_business.head(n=2)"
   ]
  },
  {
   "cell_type": "code",
   "execution_count": 4,
   "metadata": {},
   "outputs": [
    {
     "data": {
      "text/plain": [
       "(192609, 60)"
      ]
     },
     "execution_count": 4,
     "metadata": {},
     "output_type": "execute_result"
    }
   ],
   "source": [
    "## the dataset has 192,609 businesses in it\n",
    "yelp_business.shape"
   ]
  },
  {
   "cell_type": "markdown",
   "metadata": {},
   "source": [
    "Since both the Yelp dataset and the TripAdvisor dataset have many reviews for Phoenix AZ between them, I'm limiting both datsets to only include hotels from Phoenix."
   ]
  },
  {
   "cell_type": "code",
   "execution_count": 5,
   "metadata": {},
   "outputs": [
    {
     "data": {
      "text/plain": [
       "(56686, 60)"
      ]
     },
     "execution_count": 5,
     "metadata": {},
     "output_type": "execute_result"
    }
   ],
   "source": [
    "## filtering by state -- there are 56,686 businesses in Arizona\n",
    "yelp_AZ_id = yelp_business[yelp_business['state'].str.contains('AZ')]\n",
    "yelp_AZ_id.shape"
   ]
  },
  {
   "cell_type": "code",
   "execution_count": 6,
   "metadata": {},
   "outputs": [
    {
     "data": {
      "text/plain": [
       "(18774, 60)"
      ]
     },
     "execution_count": 6,
     "metadata": {},
     "output_type": "execute_result"
    }
   ],
   "source": [
    "## filtering by city --we now have 18,774 businesses, which is a bit better\n",
    "yelp_AZ_p_id = yelp_AZ_id[yelp_AZ_id['city'].str.contains('Phoenix')]\n",
    "yelp_AZ_p_id.shape"
   ]
  },
  {
   "cell_type": "markdown",
   "metadata": {},
   "source": [
    "Now the dataset is smaller, but it still has ALL businesses from Phoenix, AZ included in it. Though we can filter under the categories column for \"Hotels\", this will also include other non-hotel, \"hotel-related\" businesses (ex. Taxi services, Spas, Airports, etc)."
   ]
  },
  {
   "cell_type": "code",
   "execution_count": 7,
   "metadata": {},
   "outputs": [
    {
     "data": {
      "text/plain": [
       "(607, 60)"
      ]
     },
     "execution_count": 7,
     "metadata": {},
     "output_type": "execute_result"
    }
   ],
   "source": [
    "## dropping businesses without a category\n",
    "yelp_AZ_p_id_na = yelp_AZ_p_id.dropna(subset=['categories'])\n",
    "\n",
    "## narrowed down to 607 hotel-related businesses in AZ\n",
    "AZ_yelp_id = yelp_AZ_p_id_na[yelp_AZ_p_id_na['categories'].str.contains('Hotel')]\n",
    "AZ_yelp_id.shape"
   ]
  },
  {
   "cell_type": "code",
   "execution_count": 8,
   "metadata": {},
   "outputs": [
    {
     "data": {
      "text/html": [
       "<div>\n",
       "<style scoped>\n",
       "    .dataframe tbody tr th:only-of-type {\n",
       "        vertical-align: middle;\n",
       "    }\n",
       "\n",
       "    .dataframe tbody tr th {\n",
       "        vertical-align: top;\n",
       "    }\n",
       "\n",
       "    .dataframe thead th {\n",
       "        text-align: right;\n",
       "    }\n",
       "</style>\n",
       "<table border=\"1\" class=\"dataframe\">\n",
       "  <thead>\n",
       "    <tr style=\"text-align: right;\">\n",
       "      <th></th>\n",
       "      <th>business_id</th>\n",
       "      <th>name</th>\n",
       "      <th>address</th>\n",
       "      <th>city</th>\n",
       "      <th>state</th>\n",
       "      <th>postal_code</th>\n",
       "      <th>latitude</th>\n",
       "      <th>longitude</th>\n",
       "      <th>stars</th>\n",
       "      <th>review_count</th>\n",
       "      <th>...</th>\n",
       "      <th>attributes.BYOBCorkage</th>\n",
       "      <th>attributes.DriveThru</th>\n",
       "      <th>attributes.Smoking</th>\n",
       "      <th>attributes.AgesAllowed</th>\n",
       "      <th>attributes.HairSpecializesIn</th>\n",
       "      <th>attributes.Corkage</th>\n",
       "      <th>attributes.BYOB</th>\n",
       "      <th>attributes.DietaryRestrictions</th>\n",
       "      <th>attributes.Open24Hours</th>\n",
       "      <th>attributes.RestaurantsCounterService</th>\n",
       "    </tr>\n",
       "  </thead>\n",
       "  <tbody>\n",
       "    <tr>\n",
       "      <td>395</td>\n",
       "      <td>Ao8DPAkiK7-wNlTsvHwnhw</td>\n",
       "      <td>Enterprise Rent-A-Car</td>\n",
       "      <td>122 N 2nd St</td>\n",
       "      <td>Phoenix</td>\n",
       "      <td>AZ</td>\n",
       "      <td>85004</td>\n",
       "      <td>33.449909</td>\n",
       "      <td>-112.071322</td>\n",
       "      <td>2.5</td>\n",
       "      <td>6</td>\n",
       "      <td>...</td>\n",
       "      <td>NaN</td>\n",
       "      <td>NaN</td>\n",
       "      <td>NaN</td>\n",
       "      <td>NaN</td>\n",
       "      <td>NaN</td>\n",
       "      <td>NaN</td>\n",
       "      <td>NaN</td>\n",
       "      <td>NaN</td>\n",
       "      <td>NaN</td>\n",
       "      <td>NaN</td>\n",
       "    </tr>\n",
       "    <tr>\n",
       "      <td>520</td>\n",
       "      <td>rFNWQd01kOhLVAjftZAzrw</td>\n",
       "      <td>BG Wild</td>\n",
       "      <td>1 N 1st St, Ste 775</td>\n",
       "      <td>Phoenix</td>\n",
       "      <td>AZ</td>\n",
       "      <td>85004</td>\n",
       "      <td>33.457064</td>\n",
       "      <td>-112.072552</td>\n",
       "      <td>4.5</td>\n",
       "      <td>6</td>\n",
       "      <td>...</td>\n",
       "      <td>NaN</td>\n",
       "      <td>NaN</td>\n",
       "      <td>NaN</td>\n",
       "      <td>NaN</td>\n",
       "      <td>NaN</td>\n",
       "      <td>NaN</td>\n",
       "      <td>NaN</td>\n",
       "      <td>NaN</td>\n",
       "      <td>NaN</td>\n",
       "      <td>NaN</td>\n",
       "    </tr>\n",
       "  </tbody>\n",
       "</table>\n",
       "<p>2 rows × 60 columns</p>\n",
       "</div>"
      ],
      "text/plain": [
       "                business_id                   name              address  \\\n",
       "395  Ao8DPAkiK7-wNlTsvHwnhw  Enterprise Rent-A-Car         122 N 2nd St   \n",
       "520  rFNWQd01kOhLVAjftZAzrw                BG Wild  1 N 1st St, Ste 775   \n",
       "\n",
       "        city state postal_code   latitude   longitude  stars  review_count  \\\n",
       "395  Phoenix    AZ       85004  33.449909 -112.071322    2.5             6   \n",
       "520  Phoenix    AZ       85004  33.457064 -112.072552    4.5             6   \n",
       "\n",
       "     ...  attributes.BYOBCorkage attributes.DriveThru  attributes.Smoking  \\\n",
       "395  ...                     NaN                  NaN                 NaN   \n",
       "520  ...                     NaN                  NaN                 NaN   \n",
       "\n",
       "    attributes.AgesAllowed attributes.HairSpecializesIn attributes.Corkage  \\\n",
       "395                    NaN                          NaN                NaN   \n",
       "520                    NaN                          NaN                NaN   \n",
       "\n",
       "    attributes.BYOB attributes.DietaryRestrictions attributes.Open24Hours  \\\n",
       "395             NaN                            NaN                    NaN   \n",
       "520             NaN                            NaN                    NaN   \n",
       "\n",
       "    attributes.RestaurantsCounterService  \n",
       "395                                  NaN  \n",
       "520                                  NaN  \n",
       "\n",
       "[2 rows x 60 columns]"
      ]
     },
     "execution_count": 8,
     "metadata": {},
     "output_type": "execute_result"
    }
   ],
   "source": [
    "AZ_yelp_id.head(n=2)"
   ]
  },
  {
   "cell_type": "markdown",
   "metadata": {},
   "source": [
    "Here I read in the review file, which is the biggest takes some time."
   ]
  },
  {
   "cell_type": "code",
   "execution_count": 9,
   "metadata": {},
   "outputs": [],
   "source": [
    "## reading in reviews -- there might be a more effcient way to do this\n",
    "yelp_data = [json.loads(line) for line in open('review.json', 'r', encoding='utf8')]"
   ]
  },
  {
   "cell_type": "code",
   "execution_count": 10,
   "metadata": {},
   "outputs": [
    {
     "data": {
      "text/plain": [
       "6685900"
      ]
     },
     "execution_count": 10,
     "metadata": {},
     "output_type": "execute_result"
    }
   ],
   "source": [
    "## 6,685,900 reviews total!\n",
    "len(yelp_data)"
   ]
  },
  {
   "cell_type": "code",
   "execution_count": 11,
   "metadata": {},
   "outputs": [
    {
     "data": {
      "text/plain": [
       "{'review_id': 'Q1sbwvVQXV2734tPgoKj4Q',\n",
       " 'user_id': 'hG7b0MtEbXx5QzbzE6C_VA',\n",
       " 'business_id': 'ujmEBvifdJM6h6RLv4wQIg',\n",
       " 'stars': 1.0,\n",
       " 'useful': 6,\n",
       " 'funny': 1,\n",
       " 'cool': 0,\n",
       " 'text': 'Total bill for this horrible service? Over $8Gs. These crooks actually had the nerve to charge us $69 for 3 pills. I checked online the pills can be had for 19 cents EACH! Avoid Hospital ERs at all costs.',\n",
       " 'date': '2013-05-07 04:34:36'}"
      ]
     },
     "execution_count": 11,
     "metadata": {},
     "output_type": "execute_result"
    }
   ],
   "source": [
    "## here is what one looks like\n",
    "yelp_data[0]"
   ]
  },
  {
   "cell_type": "markdown",
   "metadata": {},
   "source": [
    "Here I read out the id file as a csv in case I want to use it later."
   ]
  },
  {
   "cell_type": "code",
   "execution_count": 12,
   "metadata": {},
   "outputs": [],
   "source": [
    "## writing out business id file\n",
    "AZ_yelp_id.to_csv(r'AZ_yelp_id.csv', index=None, header=True)"
   ]
  },
  {
   "cell_type": "markdown",
   "metadata": {},
   "source": [
    "### TripAdvisor data"
   ]
  },
  {
   "cell_type": "markdown",
   "metadata": {},
   "source": [
    "The TripAdvisor data comes in a bucketload of json files, so I'll need to go into that folder and loop thorugh all the files to get all the data into one object."
   ]
  },
  {
   "cell_type": "code",
   "execution_count": 13,
   "metadata": {},
   "outputs": [],
   "source": [
    "## setting the path to the files\n",
    "path_to_json = 'C:/Users/pantalaimon/Desktop/NLP/Final Project/json'\n",
    "\n",
    "## getting a list of all the json files I want to merge\n",
    "json_files = [pos_json for pos_json in os.listdir(path_to_json) if pos_json.endswith('.json')]"
   ]
  },
  {
   "cell_type": "code",
   "execution_count": 14,
   "metadata": {},
   "outputs": [
    {
     "data": {
      "text/plain": [
       "12773"
      ]
     },
     "execution_count": 14,
     "metadata": {},
     "output_type": "execute_result"
    }
   ],
   "source": [
    "## checking to see if it grabbed all 12,773 files --- it did!\n",
    "len(json_files)"
   ]
  },
  {
   "cell_type": "code",
   "execution_count": 15,
   "metadata": {},
   "outputs": [],
   "source": [
    "## getting dictionary of indexed json files\n",
    "allFilesDict = {v:k for v, k in enumerate(json_files, 0)}"
   ]
  },
  {
   "cell_type": "code",
   "execution_count": 16,
   "metadata": {},
   "outputs": [],
   "source": [
    "## looping through the files and bringing in all the data\n",
    "\n",
    "ta_data = []\n",
    "\n",
    "for _, file in allFilesDict.items():\n",
    "    with open(path_to_json + '/' + file, 'r') as d:\n",
    "        jdata = json.load(d)\n",
    "        ta_data.append(jdata)"
   ]
  },
  {
   "cell_type": "code",
   "execution_count": 17,
   "metadata": {},
   "outputs": [
    {
     "data": {
      "text/plain": [
       "12773"
      ]
     },
     "execution_count": 17,
     "metadata": {},
     "output_type": "execute_result"
    }
   ],
   "source": [
    "## now we have each hotel and their reviews nested inside a list\n",
    "len(ta_data)"
   ]
  },
  {
   "cell_type": "code",
   "execution_count": 18,
   "metadata": {},
   "outputs": [
    {
     "data": {
      "text/plain": [
       "{'Name': 'Hilton Garden Inn Baltimore White Marsh',\n",
       " 'HotelURL': '/ShowUserReviews-g60811-d100407-Reviews-Hilton_Garden_Inn_Baltimore_White_Marsh-Baltimore_Maryland.html',\n",
       " 'Price': '$135 - $193*',\n",
       " 'Address': '<address><span rel=\"v:address\"><span dir=\"ltr\"><span class=\"street-address\" property=\"v:street-address\">5015 Campbell Blvd</span>, <span class=\"locality\"><span property=\"v:locality\">Baltimore</span>, <span property=\"v:region\">MD</span> <span property=\"v:postal-code\">21236</span></span> </span></span></address>',\n",
       " 'HotelID': '100407',\n",
       " 'ImgURL': 'http://media-cdn.tripadvisor.com/media/ProviderThumbnails/dirs/40/b6/40b613427a5bd614b3f489b31d7756ec5large.jpg'}"
      ]
     },
     "execution_count": 18,
     "metadata": {},
     "output_type": "execute_result"
    }
   ],
   "source": [
    "## here's an example of what the data regarding the hotel looks like\n",
    "ta_data[0]['HotelInfo']"
   ]
  },
  {
   "cell_type": "code",
   "execution_count": 19,
   "metadata": {},
   "outputs": [
    {
     "data": {
      "text/plain": [
       "{'Ratings': {'Service': '5',\n",
       "  'Cleanliness': '5',\n",
       "  'Overall': '5.0',\n",
       "  'Value': '5',\n",
       "  'Sleep Quality': '5',\n",
       "  'Rooms': '5',\n",
       "  'Location': '5'},\n",
       " 'AuthorLocation': 'Jacksonville, Florida',\n",
       " 'Title': '“Great place and location”',\n",
       " 'Author': 'Nadine R',\n",
       " 'ReviewID': 'UR128178025',\n",
       " 'Content': 'Usually stay near the airport, but this trip we had business on the north side of Balto. The traffic is too crazy staying elsewhere. This hotel was perfect, the hot breakfast wonderful - recommend getting the breakfast package if there are 2 of you in the room. Only hotel in the area with a restaurant and bar. This area does not have a whole lot of good restaurants (compared to staying near Columbia or Pikesville or off 83). It is next to White Marsh Mall which is a huge complex of shopping including an Ikea. The beds were fabulous - you can adjust your side for firmness.',\n",
       " 'Date': 'April 19, 2012'}"
      ]
     },
     "execution_count": 19,
     "metadata": {},
     "output_type": "execute_result"
    }
   ],
   "source": [
    "## here is what one review looks like\n",
    "ta_data[0]['Reviews'][0]"
   ]
  },
  {
   "cell_type": "markdown",
   "metadata": {},
   "source": [
    "Oddly, TripAdvisor does not include an overall score for each hotel like Yelp does (the only score available are the individul ones left by each reviewer). So here I'll create an average score for each hotel."
   ]
  },
  {
   "cell_type": "code",
   "execution_count": 20,
   "metadata": {},
   "outputs": [],
   "source": [
    "## looping through each hotel and each review to pull out the \"Overall\" rating\n",
    "\n",
    "for i in ta_data:\n",
    "    r = i['Reviews']\n",
    "    overall = []\n",
    "    i['HotelInfo']['Overall'] = overall\n",
    "    for x in r:\n",
    "        c = float(x['Ratings']['Overall'])\n",
    "        overall.append(c)"
   ]
  },
  {
   "cell_type": "markdown",
   "metadata": {},
   "source": [
    "At this point I wanted to make a dataframe of all the hotels we grabbed, since I'm more comfortable with pandas and I want to merge this dataset with the Yelp dataset later."
   ]
  },
  {
   "cell_type": "code",
   "execution_count": 21,
   "metadata": {},
   "outputs": [
    {
     "data": {
      "text/plain": [
       "12773"
      ]
     },
     "execution_count": 21,
     "metadata": {},
     "output_type": "execute_result"
    }
   ],
   "source": [
    "## subsetting the hotel data, since we're not interested in the review text yet\n",
    "ta_subset = []\n",
    "\n",
    "for i in ta_data:\n",
    "    i['HotelInfo']['Overall'] = np.mean(i['HotelInfo']['Overall'])\n",
    "    i['HotelInfo']['Review Count'] = len(i['Reviews'])\n",
    "    r = i['HotelInfo']\n",
    "    ta_subset.append(r)\n",
    "\n",
    "len(ta_subset)"
   ]
  },
  {
   "cell_type": "code",
   "execution_count": 22,
   "metadata": {},
   "outputs": [],
   "source": [
    "## making the pandas dataframe\n",
    "ta_df = pd.DataFrame.from_dict(json_normalize(ta_subset), orient='columns')"
   ]
  },
  {
   "cell_type": "code",
   "execution_count": 23,
   "metadata": {},
   "outputs": [
    {
     "data": {
      "text/plain": [
       "(12773, 8)"
      ]
     },
     "execution_count": 23,
     "metadata": {},
     "output_type": "execute_result"
    }
   ],
   "source": [
    "## checking that the dataframe has all hotels\n",
    "ta_df.shape"
   ]
  },
  {
   "cell_type": "code",
   "execution_count": 24,
   "metadata": {},
   "outputs": [
    {
     "data": {
      "text/html": [
       "<div>\n",
       "<style scoped>\n",
       "    .dataframe tbody tr th:only-of-type {\n",
       "        vertical-align: middle;\n",
       "    }\n",
       "\n",
       "    .dataframe tbody tr th {\n",
       "        vertical-align: top;\n",
       "    }\n",
       "\n",
       "    .dataframe thead th {\n",
       "        text-align: right;\n",
       "    }\n",
       "</style>\n",
       "<table border=\"1\" class=\"dataframe\">\n",
       "  <thead>\n",
       "    <tr style=\"text-align: right;\">\n",
       "      <th></th>\n",
       "      <th>Name</th>\n",
       "      <th>HotelURL</th>\n",
       "      <th>Price</th>\n",
       "      <th>Address</th>\n",
       "      <th>HotelID</th>\n",
       "      <th>ImgURL</th>\n",
       "      <th>Overall</th>\n",
       "      <th>Review Count</th>\n",
       "    </tr>\n",
       "  </thead>\n",
       "  <tbody>\n",
       "    <tr>\n",
       "      <td>0</td>\n",
       "      <td>Hilton Garden Inn Baltimore White Marsh</td>\n",
       "      <td>/ShowUserReviews-g60811-d100407-Reviews-Hilton...</td>\n",
       "      <td>$135 - $193*</td>\n",
       "      <td>&lt;address&gt;&lt;span rel=\"v:address\"&gt;&lt;span dir=\"ltr\"...</td>\n",
       "      <td>100407</td>\n",
       "      <td>http://media-cdn.tripadvisor.com/media/Provide...</td>\n",
       "      <td>4.444444</td>\n",
       "      <td>36</td>\n",
       "    </tr>\n",
       "    <tr>\n",
       "      <td>1</td>\n",
       "      <td>Hotel Monaco Seattle - a Kimpton Hotel</td>\n",
       "      <td>/ShowUserReviews-g60878-d100504-Reviews-Hotel_...</td>\n",
       "      <td>$184 - $345*</td>\n",
       "      <td>&lt;address class=\"addressReset\"&gt; &lt;span rel=\"v:ad...</td>\n",
       "      <td>100504</td>\n",
       "      <td>http://media-cdn.tripadvisor.com/media/photo-s...</td>\n",
       "      <td>4.481043</td>\n",
       "      <td>422</td>\n",
       "    </tr>\n",
       "  </tbody>\n",
       "</table>\n",
       "</div>"
      ],
      "text/plain": [
       "                                      Name  \\\n",
       "0  Hilton Garden Inn Baltimore White Marsh   \n",
       "1   Hotel Monaco Seattle - a Kimpton Hotel   \n",
       "\n",
       "                                            HotelURL         Price  \\\n",
       "0  /ShowUserReviews-g60811-d100407-Reviews-Hilton...  $135 - $193*   \n",
       "1  /ShowUserReviews-g60878-d100504-Reviews-Hotel_...  $184 - $345*   \n",
       "\n",
       "                                             Address HotelID  \\\n",
       "0  <address><span rel=\"v:address\"><span dir=\"ltr\"...  100407   \n",
       "1  <address class=\"addressReset\"> <span rel=\"v:ad...  100504   \n",
       "\n",
       "                                              ImgURL   Overall  Review Count  \n",
       "0  http://media-cdn.tripadvisor.com/media/Provide...  4.444444            36  \n",
       "1  http://media-cdn.tripadvisor.com/media/photo-s...  4.481043           422  "
      ]
     },
     "execution_count": 24,
     "metadata": {},
     "output_type": "execute_result"
    }
   ],
   "source": [
    "## looking at the dataframe, the Reviews column has all the reviews for that hotel in it\n",
    "ta_df.head(n=2)"
   ]
  },
  {
   "cell_type": "markdown",
   "metadata": {},
   "source": [
    "#### Using RegEx to clean up addresses"
   ]
  },
  {
   "cell_type": "markdown",
   "metadata": {},
   "source": [
    "It looks like the address column of the database is a jumble of html, so I'll use regex to pull out the state and city and add it to a new column in the dataframe"
   ]
  },
  {
   "cell_type": "code",
   "execution_count": 25,
   "metadata": {},
   "outputs": [
    {
     "data": {
      "text/plain": [
       "'<address><span rel=\"v:address\"><span dir=\"ltr\"><span class=\"street-address\" property=\"v:street-address\">5015 Campbell Blvd</span>, <span class=\"locality\"><span property=\"v:locality\">Baltimore</span>, <span property=\"v:region\">MD</span> <span property=\"v:postal-code\">21236</span></span> </span></span></address>'"
      ]
     },
     "execution_count": 25,
     "metadata": {},
     "output_type": "execute_result"
    }
   ],
   "source": [
    "## here's an example of the text I'm trying to pull the state/city out of\n",
    "ta_df['Address'][0]"
   ]
  },
  {
   "cell_type": "code",
   "execution_count": 26,
   "metadata": {},
   "outputs": [
    {
     "data": {
      "text/plain": [
       "['MD']"
      ]
     },
     "execution_count": 26,
     "metadata": {},
     "output_type": "execute_result"
    }
   ],
   "source": [
    "## testing my regex\n",
    "test_state = re.findall(r'\"v:region\">(.*?)</span>', ta_df['Address'][0])\n",
    "test_state"
   ]
  },
  {
   "cell_type": "code",
   "execution_count": 27,
   "metadata": {},
   "outputs": [
    {
     "data": {
      "text/plain": [
       "['Baltimore']"
      ]
     },
     "execution_count": 27,
     "metadata": {},
     "output_type": "execute_result"
    }
   ],
   "source": [
    "## testing again for cities\n",
    "test_city = re.findall(r'\"v:locality\">(.*?)</span>', ta_df['Address'][0])\n",
    "test_city"
   ]
  },
  {
   "cell_type": "code",
   "execution_count": 28,
   "metadata": {},
   "outputs": [
    {
     "data": {
      "text/plain": [
       "['5015 Campbell Blvd']"
      ]
     },
     "execution_count": 28,
     "metadata": {},
     "output_type": "execute_result"
    }
   ],
   "source": [
    "## testing again for street address\n",
    "test_address = re.findall(r'\"v:street-address\">(.*?)</span>', ta_df['Address'][0])\n",
    "test_address"
   ]
  },
  {
   "cell_type": "code",
   "execution_count": 29,
   "metadata": {},
   "outputs": [
    {
     "data": {
      "text/plain": [
       "['21236']"
      ]
     },
     "execution_count": 29,
     "metadata": {},
     "output_type": "execute_result"
    }
   ],
   "source": [
    "## one more time for postal code\n",
    "test_code = re.findall(r'\"v:postal-code\">(.*?)</span>', ta_df['Address'][0])\n",
    "test_code"
   ]
  },
  {
   "cell_type": "code",
   "execution_count": 30,
   "metadata": {},
   "outputs": [],
   "source": [
    "## using regex to pull out the state of each hotel and add it to a new columns\n",
    "ta_df['State'] = ta_df['Address'].str.extract(r'\"v:region\">(.*?)</span>')"
   ]
  },
  {
   "cell_type": "code",
   "execution_count": 31,
   "metadata": {},
   "outputs": [],
   "source": [
    "## using regex to pull out the city of each hotel and add it to a new columns\n",
    "ta_df['City'] = ta_df['Address'].str.extract(r'\"v:locality\">(.*?)</span>')"
   ]
  },
  {
   "cell_type": "code",
   "execution_count": 32,
   "metadata": {},
   "outputs": [],
   "source": [
    "## using regex to pull out the address of each hotel and add it to a new columns\n",
    "ta_df['Street'] = ta_df['Address'].str.extract(r'\"v:street-address\">(.*?)</span>')"
   ]
  },
  {
   "cell_type": "code",
   "execution_count": 33,
   "metadata": {},
   "outputs": [],
   "source": [
    "## using regex to pull out the postal code of each hotel and add it to a new columns\n",
    "ta_df['Code'] = ta_df['Address'].str.extract(r'\"v:postal-code\">(.*?)</span>')"
   ]
  },
  {
   "cell_type": "code",
   "execution_count": 34,
   "metadata": {},
   "outputs": [
    {
     "data": {
      "text/html": [
       "<div>\n",
       "<style scoped>\n",
       "    .dataframe tbody tr th:only-of-type {\n",
       "        vertical-align: middle;\n",
       "    }\n",
       "\n",
       "    .dataframe tbody tr th {\n",
       "        vertical-align: top;\n",
       "    }\n",
       "\n",
       "    .dataframe thead th {\n",
       "        text-align: right;\n",
       "    }\n",
       "</style>\n",
       "<table border=\"1\" class=\"dataframe\">\n",
       "  <thead>\n",
       "    <tr style=\"text-align: right;\">\n",
       "      <th></th>\n",
       "      <th>Name</th>\n",
       "      <th>HotelURL</th>\n",
       "      <th>Price</th>\n",
       "      <th>Address</th>\n",
       "      <th>HotelID</th>\n",
       "      <th>ImgURL</th>\n",
       "      <th>Overall</th>\n",
       "      <th>Review Count</th>\n",
       "      <th>State</th>\n",
       "      <th>City</th>\n",
       "      <th>Street</th>\n",
       "      <th>Code</th>\n",
       "    </tr>\n",
       "  </thead>\n",
       "  <tbody>\n",
       "    <tr>\n",
       "      <td>0</td>\n",
       "      <td>Hilton Garden Inn Baltimore White Marsh</td>\n",
       "      <td>/ShowUserReviews-g60811-d100407-Reviews-Hilton...</td>\n",
       "      <td>$135 - $193*</td>\n",
       "      <td>&lt;address&gt;&lt;span rel=\"v:address\"&gt;&lt;span dir=\"ltr\"...</td>\n",
       "      <td>100407</td>\n",
       "      <td>http://media-cdn.tripadvisor.com/media/Provide...</td>\n",
       "      <td>4.444444</td>\n",
       "      <td>36</td>\n",
       "      <td>MD</td>\n",
       "      <td>Baltimore</td>\n",
       "      <td>5015 Campbell Blvd</td>\n",
       "      <td>21236</td>\n",
       "    </tr>\n",
       "    <tr>\n",
       "      <td>1</td>\n",
       "      <td>Hotel Monaco Seattle - a Kimpton Hotel</td>\n",
       "      <td>/ShowUserReviews-g60878-d100504-Reviews-Hotel_...</td>\n",
       "      <td>$184 - $345*</td>\n",
       "      <td>&lt;address class=\"addressReset\"&gt; &lt;span rel=\"v:ad...</td>\n",
       "      <td>100504</td>\n",
       "      <td>http://media-cdn.tripadvisor.com/media/photo-s...</td>\n",
       "      <td>4.481043</td>\n",
       "      <td>422</td>\n",
       "      <td>WA</td>\n",
       "      <td>Seattle</td>\n",
       "      <td>1101 Fourth Avenue</td>\n",
       "      <td>98101</td>\n",
       "    </tr>\n",
       "    <tr>\n",
       "      <td>2</td>\n",
       "      <td>Warwick Seattle Hotel</td>\n",
       "      <td>/ShowUserReviews-g60878-d100505-Reviews-Warwic...</td>\n",
       "      <td>$129 - $228*</td>\n",
       "      <td>&lt;address class=\"addressReset\"&gt; &lt;span rel=\"v:ad...</td>\n",
       "      <td>100505</td>\n",
       "      <td>http://media-cdn.tripadvisor.com/media/photo-s...</td>\n",
       "      <td>3.567114</td>\n",
       "      <td>298</td>\n",
       "      <td>WA</td>\n",
       "      <td>Seattle</td>\n",
       "      <td>401 Lenora Street</td>\n",
       "      <td>98121</td>\n",
       "    </tr>\n",
       "    <tr>\n",
       "      <td>3</td>\n",
       "      <td>Hotel Seattle</td>\n",
       "      <td>/ShowUserReviews-g60878-d100506-Reviews-Hotel_...</td>\n",
       "      <td>$96 - $118*</td>\n",
       "      <td>&lt;address class=\"addressReset\"&gt; &lt;span rel=\"v:ad...</td>\n",
       "      <td>100506</td>\n",
       "      <td>http://media-cdn.tripadvisor.com/media/Provide...</td>\n",
       "      <td>1.666667</td>\n",
       "      <td>48</td>\n",
       "      <td>WA</td>\n",
       "      <td>Seattle</td>\n",
       "      <td>315 Seneca St.</td>\n",
       "      <td>98101</td>\n",
       "    </tr>\n",
       "    <tr>\n",
       "      <td>4</td>\n",
       "      <td>Inn at the Market</td>\n",
       "      <td>/ShowUserReviews-g60878-d100507-Reviews-Inn_at...</td>\n",
       "      <td>$199 - $299*</td>\n",
       "      <td>&lt;address class=\"addressReset\"&gt; &lt;span rel=\"v:ad...</td>\n",
       "      <td>100507</td>\n",
       "      <td>http://media-cdn.tripadvisor.com/media/photo-s...</td>\n",
       "      <td>4.715370</td>\n",
       "      <td>527</td>\n",
       "      <td>WA</td>\n",
       "      <td>Seattle</td>\n",
       "      <td>86 Pine St.</td>\n",
       "      <td>98101</td>\n",
       "    </tr>\n",
       "  </tbody>\n",
       "</table>\n",
       "</div>"
      ],
      "text/plain": [
       "                                      Name  \\\n",
       "0  Hilton Garden Inn Baltimore White Marsh   \n",
       "1   Hotel Monaco Seattle - a Kimpton Hotel   \n",
       "2                    Warwick Seattle Hotel   \n",
       "3                            Hotel Seattle   \n",
       "4                        Inn at the Market   \n",
       "\n",
       "                                            HotelURL         Price  \\\n",
       "0  /ShowUserReviews-g60811-d100407-Reviews-Hilton...  $135 - $193*   \n",
       "1  /ShowUserReviews-g60878-d100504-Reviews-Hotel_...  $184 - $345*   \n",
       "2  /ShowUserReviews-g60878-d100505-Reviews-Warwic...  $129 - $228*   \n",
       "3  /ShowUserReviews-g60878-d100506-Reviews-Hotel_...   $96 - $118*   \n",
       "4  /ShowUserReviews-g60878-d100507-Reviews-Inn_at...  $199 - $299*   \n",
       "\n",
       "                                             Address HotelID  \\\n",
       "0  <address><span rel=\"v:address\"><span dir=\"ltr\"...  100407   \n",
       "1  <address class=\"addressReset\"> <span rel=\"v:ad...  100504   \n",
       "2  <address class=\"addressReset\"> <span rel=\"v:ad...  100505   \n",
       "3  <address class=\"addressReset\"> <span rel=\"v:ad...  100506   \n",
       "4  <address class=\"addressReset\"> <span rel=\"v:ad...  100507   \n",
       "\n",
       "                                              ImgURL   Overall  Review Count  \\\n",
       "0  http://media-cdn.tripadvisor.com/media/Provide...  4.444444            36   \n",
       "1  http://media-cdn.tripadvisor.com/media/photo-s...  4.481043           422   \n",
       "2  http://media-cdn.tripadvisor.com/media/photo-s...  3.567114           298   \n",
       "3  http://media-cdn.tripadvisor.com/media/Provide...  1.666667            48   \n",
       "4  http://media-cdn.tripadvisor.com/media/photo-s...  4.715370           527   \n",
       "\n",
       "  State       City              Street   Code  \n",
       "0    MD  Baltimore  5015 Campbell Blvd  21236  \n",
       "1    WA    Seattle  1101 Fourth Avenue  98101  \n",
       "2    WA    Seattle   401 Lenora Street  98121  \n",
       "3    WA    Seattle      315 Seneca St.  98101  \n",
       "4    WA    Seattle         86 Pine St.  98101  "
      ]
     },
     "execution_count": 34,
     "metadata": {},
     "output_type": "execute_result"
    }
   ],
   "source": [
    "## looking at the new dataframe -- seems ok!\n",
    "ta_df.head()"
   ]
  },
  {
   "cell_type": "markdown",
   "metadata": {},
   "source": [
    "Now that the big dataframe is clean(er) and organized, I'll filter out for Arizona."
   ]
  },
  {
   "cell_type": "code",
   "execution_count": 35,
   "metadata": {},
   "outputs": [
    {
     "data": {
      "text/plain": [
       "Name            2765\n",
       "HotelURL          31\n",
       "Price              0\n",
       "Address         2765\n",
       "HotelID            0\n",
       "ImgURL          2765\n",
       "Overall           27\n",
       "Review Count       0\n",
       "State           8467\n",
       "City            3206\n",
       "Street          3033\n",
       "Code            3433\n",
       "dtype: int64"
      ]
     },
     "execution_count": 35,
     "metadata": {},
     "output_type": "execute_result"
    }
   ],
   "source": [
    "## checking to see how many NaN rows we have in the state column -- it's a lot\n",
    "ta_df.isna().sum()"
   ]
  },
  {
   "cell_type": "markdown",
   "metadata": {},
   "source": [
    "There are a lot of NA rows in the state column, but that's because there are a lot of international hotels included in the dataset. There is also a lot of missing data under Address, so I'm actually ok with moving forward at this point."
   ]
  },
  {
   "cell_type": "code",
   "execution_count": 36,
   "metadata": {},
   "outputs": [
    {
     "data": {
      "text/plain": [
       "(183, 12)"
      ]
     },
     "execution_count": 36,
     "metadata": {},
     "output_type": "execute_result"
    }
   ],
   "source": [
    "## dropping NAs from state column\n",
    "ta_df_dropna = ta_df.dropna(subset=['State'])\n",
    "\n",
    "## we're left with 183 hotels in Arizona\n",
    "AZ_ta_df = ta_df_dropna[ta_df_dropna['State'].str.contains('AZ')]\n",
    "AZ_ta_df.shape"
   ]
  },
  {
   "cell_type": "code",
   "execution_count": 37,
   "metadata": {},
   "outputs": [
    {
     "data": {
      "text/plain": [
       "['Phoenix']"
      ]
     },
     "execution_count": 37,
     "metadata": {},
     "output_type": "execute_result"
    }
   ],
   "source": [
    "## and they're all from Phoenix\n",
    "AZ_ta_df['City'].unique().tolist()"
   ]
  },
  {
   "cell_type": "markdown",
   "metadata": {},
   "source": [
    "All of the hotels that TripAdvisor has reviews for in Arizona are from Phoenix, so we're done filtering the data for now."
   ]
  },
  {
   "cell_type": "code",
   "execution_count": 38,
   "metadata": {},
   "outputs": [],
   "source": [
    "## writing out hotel id file for safe keeping\n",
    "AZ_ta_df.to_csv(r'AZ_ta_id.csv', index=None, header=True)"
   ]
  },
  {
   "cell_type": "markdown",
   "metadata": {},
   "source": [
    "### Time to Merge"
   ]
  },
  {
   "cell_type": "markdown",
   "metadata": {},
   "source": [
    "The Yelp dataset still has businesses that clearly aren't hotels, but hopefully when match using business name we will drop this false positives."
   ]
  },
  {
   "cell_type": "code",
   "execution_count": 39,
   "metadata": {},
   "outputs": [],
   "source": [
    "## doing an inner join to keep only hotels from Yelp and TripAdvisor that have the same name\n",
    "merged_hotels = pd.merge(left=AZ_yelp_id,right=AZ_ta_df, left_on='name', right_on='Name')"
   ]
  },
  {
   "cell_type": "code",
   "execution_count": 40,
   "metadata": {},
   "outputs": [
    {
     "data": {
      "text/plain": [
       "(50, 72)"
      ]
     },
     "execution_count": 40,
     "metadata": {},
     "output_type": "execute_result"
    }
   ],
   "source": [
    "## we're left with 50 matches, which feels like an ok number to work with\n",
    "merged_hotels.shape"
   ]
  },
  {
   "cell_type": "code",
   "execution_count": 41,
   "metadata": {},
   "outputs": [
    {
     "data": {
      "text/html": [
       "<div>\n",
       "<style scoped>\n",
       "    .dataframe tbody tr th:only-of-type {\n",
       "        vertical-align: middle;\n",
       "    }\n",
       "\n",
       "    .dataframe tbody tr th {\n",
       "        vertical-align: top;\n",
       "    }\n",
       "\n",
       "    .dataframe thead th {\n",
       "        text-align: right;\n",
       "    }\n",
       "</style>\n",
       "<table border=\"1\" class=\"dataframe\">\n",
       "  <thead>\n",
       "    <tr style=\"text-align: right;\">\n",
       "      <th></th>\n",
       "      <th>business_id</th>\n",
       "      <th>name</th>\n",
       "      <th>address</th>\n",
       "      <th>city</th>\n",
       "      <th>state</th>\n",
       "      <th>postal_code</th>\n",
       "      <th>latitude</th>\n",
       "      <th>longitude</th>\n",
       "      <th>stars</th>\n",
       "      <th>review_count</th>\n",
       "      <th>...</th>\n",
       "      <th>Price</th>\n",
       "      <th>Address</th>\n",
       "      <th>HotelID</th>\n",
       "      <th>ImgURL</th>\n",
       "      <th>Overall</th>\n",
       "      <th>Review Count</th>\n",
       "      <th>State</th>\n",
       "      <th>City</th>\n",
       "      <th>Street</th>\n",
       "      <th>Code</th>\n",
       "    </tr>\n",
       "  </thead>\n",
       "  <tbody>\n",
       "    <tr>\n",
       "      <td>0</td>\n",
       "      <td>Sxe7h922Dqv9HzfTH-8O7w</td>\n",
       "      <td>Courtyard by Marriott Phoenix North</td>\n",
       "      <td>9631 North Black Canyon Highway</td>\n",
       "      <td>Phoenix</td>\n",
       "      <td>AZ</td>\n",
       "      <td>85021</td>\n",
       "      <td>33.573841</td>\n",
       "      <td>-112.115881</td>\n",
       "      <td>3.5</td>\n",
       "      <td>21</td>\n",
       "      <td>...</td>\n",
       "      <td>$90 - $147*</td>\n",
       "      <td>&lt;address class=\"addressReset\"&gt;&lt;span rel=\"v:add...</td>\n",
       "      <td>73751</td>\n",
       "      <td>http://media-cdn.tripadvisor.com/media/Provide...</td>\n",
       "      <td>3.842105</td>\n",
       "      <td>19</td>\n",
       "      <td>AZ</td>\n",
       "      <td>Phoenix</td>\n",
       "      <td>9631 North Black Canyon Highway</td>\n",
       "      <td>85021</td>\n",
       "    </tr>\n",
       "    <tr>\n",
       "      <td>1</td>\n",
       "      <td>DNj1wGcCjuc-9HmfiEvRGA</td>\n",
       "      <td>La Quinta Inn Phoenix - Arcadia</td>\n",
       "      <td>4727 East Thomas Rd</td>\n",
       "      <td>Phoenix</td>\n",
       "      <td>AZ</td>\n",
       "      <td>85018</td>\n",
       "      <td>33.479738</td>\n",
       "      <td>-111.979801</td>\n",
       "      <td>2.5</td>\n",
       "      <td>31</td>\n",
       "      <td>...</td>\n",
       "      <td>$58 - $77*</td>\n",
       "      <td>&lt;address class=\"addressReset\"&gt;&lt;span rel=\"v:add...</td>\n",
       "      <td>2516205</td>\n",
       "      <td>http://media-cdn.tripadvisor.com/media/Provide...</td>\n",
       "      <td>3.603774</td>\n",
       "      <td>53</td>\n",
       "      <td>AZ</td>\n",
       "      <td>Phoenix</td>\n",
       "      <td>4727 East Thomas Road</td>\n",
       "      <td>85018</td>\n",
       "    </tr>\n",
       "    <tr>\n",
       "      <td>2</td>\n",
       "      <td>DNj1wGcCjuc-9HmfiEvRGA</td>\n",
       "      <td>La Quinta Inn Phoenix - Arcadia</td>\n",
       "      <td>4727 East Thomas Rd</td>\n",
       "      <td>Phoenix</td>\n",
       "      <td>AZ</td>\n",
       "      <td>85018</td>\n",
       "      <td>33.479738</td>\n",
       "      <td>-111.979801</td>\n",
       "      <td>2.5</td>\n",
       "      <td>31</td>\n",
       "      <td>...</td>\n",
       "      <td>$58 - $77*</td>\n",
       "      <td>&lt;address class=\"addressReset\"&gt;&lt;span rel=\"v:add...</td>\n",
       "      <td>74758</td>\n",
       "      <td>http://media-cdn.tripadvisor.com/media/Provide...</td>\n",
       "      <td>3.620000</td>\n",
       "      <td>50</td>\n",
       "      <td>AZ</td>\n",
       "      <td>Phoenix</td>\n",
       "      <td>4727 East Thomas Road</td>\n",
       "      <td>85018</td>\n",
       "    </tr>\n",
       "    <tr>\n",
       "      <td>3</td>\n",
       "      <td>JrlWOpx0n6SgQQrZuv9u1Q</td>\n",
       "      <td>Sheraton Crescent Hotel</td>\n",
       "      <td>2620 West Dunlap Ave</td>\n",
       "      <td>Phoenix</td>\n",
       "      <td>AZ</td>\n",
       "      <td>85021</td>\n",
       "      <td>33.568515</td>\n",
       "      <td>-112.115747</td>\n",
       "      <td>3.0</td>\n",
       "      <td>140</td>\n",
       "      <td>...</td>\n",
       "      <td>$90 - $172*</td>\n",
       "      <td>&lt;address class=\"addressReset\"&gt;&lt;span rel=\"v:add...</td>\n",
       "      <td>2516186</td>\n",
       "      <td>http://media-cdn.tripadvisor.com/media/photo-s...</td>\n",
       "      <td>4.182353</td>\n",
       "      <td>170</td>\n",
       "      <td>AZ</td>\n",
       "      <td>Phoenix</td>\n",
       "      <td>2620 West Dunlap Avenue</td>\n",
       "      <td>85021</td>\n",
       "    </tr>\n",
       "    <tr>\n",
       "      <td>4</td>\n",
       "      <td>JrlWOpx0n6SgQQrZuv9u1Q</td>\n",
       "      <td>Sheraton Crescent Hotel</td>\n",
       "      <td>2620 West Dunlap Ave</td>\n",
       "      <td>Phoenix</td>\n",
       "      <td>AZ</td>\n",
       "      <td>85021</td>\n",
       "      <td>33.568515</td>\n",
       "      <td>-112.115747</td>\n",
       "      <td>3.0</td>\n",
       "      <td>140</td>\n",
       "      <td>...</td>\n",
       "      <td>$90 - $172*</td>\n",
       "      <td>&lt;address class=\"addressReset\"&gt;&lt;span rel=\"v:add...</td>\n",
       "      <td>73947</td>\n",
       "      <td>http://media-cdn.tripadvisor.com/media/photo-s...</td>\n",
       "      <td>4.171779</td>\n",
       "      <td>163</td>\n",
       "      <td>AZ</td>\n",
       "      <td>Phoenix</td>\n",
       "      <td>2620 West Dunlap Avenue</td>\n",
       "      <td>85021</td>\n",
       "    </tr>\n",
       "  </tbody>\n",
       "</table>\n",
       "<p>5 rows × 72 columns</p>\n",
       "</div>"
      ],
      "text/plain": [
       "              business_id                                 name  \\\n",
       "0  Sxe7h922Dqv9HzfTH-8O7w  Courtyard by Marriott Phoenix North   \n",
       "1  DNj1wGcCjuc-9HmfiEvRGA      La Quinta Inn Phoenix - Arcadia   \n",
       "2  DNj1wGcCjuc-9HmfiEvRGA      La Quinta Inn Phoenix - Arcadia   \n",
       "3  JrlWOpx0n6SgQQrZuv9u1Q              Sheraton Crescent Hotel   \n",
       "4  JrlWOpx0n6SgQQrZuv9u1Q              Sheraton Crescent Hotel   \n",
       "\n",
       "                           address     city state postal_code   latitude  \\\n",
       "0  9631 North Black Canyon Highway  Phoenix    AZ       85021  33.573841   \n",
       "1              4727 East Thomas Rd  Phoenix    AZ       85018  33.479738   \n",
       "2              4727 East Thomas Rd  Phoenix    AZ       85018  33.479738   \n",
       "3             2620 West Dunlap Ave  Phoenix    AZ       85021  33.568515   \n",
       "4             2620 West Dunlap Ave  Phoenix    AZ       85021  33.568515   \n",
       "\n",
       "    longitude  stars  review_count  ...        Price  \\\n",
       "0 -112.115881    3.5            21  ...  $90 - $147*   \n",
       "1 -111.979801    2.5            31  ...   $58 - $77*   \n",
       "2 -111.979801    2.5            31  ...   $58 - $77*   \n",
       "3 -112.115747    3.0           140  ...  $90 - $172*   \n",
       "4 -112.115747    3.0           140  ...  $90 - $172*   \n",
       "\n",
       "                                             Address  HotelID  \\\n",
       "0  <address class=\"addressReset\"><span rel=\"v:add...    73751   \n",
       "1  <address class=\"addressReset\"><span rel=\"v:add...  2516205   \n",
       "2  <address class=\"addressReset\"><span rel=\"v:add...    74758   \n",
       "3  <address class=\"addressReset\"><span rel=\"v:add...  2516186   \n",
       "4  <address class=\"addressReset\"><span rel=\"v:add...    73947   \n",
       "\n",
       "                                              ImgURL   Overall Review Count  \\\n",
       "0  http://media-cdn.tripadvisor.com/media/Provide...  3.842105           19   \n",
       "1  http://media-cdn.tripadvisor.com/media/Provide...  3.603774           53   \n",
       "2  http://media-cdn.tripadvisor.com/media/Provide...  3.620000           50   \n",
       "3  http://media-cdn.tripadvisor.com/media/photo-s...  4.182353          170   \n",
       "4  http://media-cdn.tripadvisor.com/media/photo-s...  4.171779          163   \n",
       "\n",
       "  State     City                           Street   Code  \n",
       "0    AZ  Phoenix  9631 North Black Canyon Highway  85021  \n",
       "1    AZ  Phoenix            4727 East Thomas Road  85018  \n",
       "2    AZ  Phoenix            4727 East Thomas Road  85018  \n",
       "3    AZ  Phoenix          2620 West Dunlap Avenue  85021  \n",
       "4    AZ  Phoenix          2620 West Dunlap Avenue  85021  \n",
       "\n",
       "[5 rows x 72 columns]"
      ]
     },
     "execution_count": 41,
     "metadata": {},
     "output_type": "execute_result"
    }
   ],
   "source": [
    "## looks like we have some duplicates, but the addresses are matching up across datasets so I'm not too mad about it\n",
    "merged_hotels.head()"
   ]
  },
  {
   "cell_type": "markdown",
   "metadata": {},
   "source": [
    "While eyeballing the data, it's apparent that the TripAdvisor dataset had some duplicates. This is a bit odd, since all of the data appears exactly the same (including the address), which the exception of the HotelID variable. This would imply they are the same hotels, and possibly the same reviews."
   ]
  },
  {
   "cell_type": "markdown",
   "metadata": {},
   "source": [
    "For now I'll keep the version that has more reviews."
   ]
  },
  {
   "cell_type": "code",
   "execution_count": 42,
   "metadata": {},
   "outputs": [
    {
     "data": {
      "text/html": [
       "<div>\n",
       "<style scoped>\n",
       "    .dataframe tbody tr th:only-of-type {\n",
       "        vertical-align: middle;\n",
       "    }\n",
       "\n",
       "    .dataframe tbody tr th {\n",
       "        vertical-align: top;\n",
       "    }\n",
       "\n",
       "    .dataframe thead th {\n",
       "        text-align: right;\n",
       "    }\n",
       "</style>\n",
       "<table border=\"1\" class=\"dataframe\">\n",
       "  <thead>\n",
       "    <tr style=\"text-align: right;\">\n",
       "      <th></th>\n",
       "      <th>business_id</th>\n",
       "      <th>name</th>\n",
       "      <th>address</th>\n",
       "      <th>city</th>\n",
       "      <th>state</th>\n",
       "      <th>postal_code</th>\n",
       "      <th>latitude</th>\n",
       "      <th>longitude</th>\n",
       "      <th>stars</th>\n",
       "      <th>review_count</th>\n",
       "      <th>...</th>\n",
       "      <th>Price</th>\n",
       "      <th>Address</th>\n",
       "      <th>HotelID</th>\n",
       "      <th>ImgURL</th>\n",
       "      <th>Overall</th>\n",
       "      <th>Review Count</th>\n",
       "      <th>State</th>\n",
       "      <th>City</th>\n",
       "      <th>Street</th>\n",
       "      <th>Code</th>\n",
       "    </tr>\n",
       "  </thead>\n",
       "  <tbody>\n",
       "    <tr>\n",
       "      <td>24</td>\n",
       "      <td>bphFS_7xYag4Dv_6d8fmVQ</td>\n",
       "      <td>Budget Suites of America</td>\n",
       "      <td>2702 W Yorkshire Dr</td>\n",
       "      <td>Phoenix</td>\n",
       "      <td>AZ</td>\n",
       "      <td>85027</td>\n",
       "      <td>33.663185</td>\n",
       "      <td>-112.117569</td>\n",
       "      <td>2.5</td>\n",
       "      <td>15</td>\n",
       "      <td>...</td>\n",
       "      <td>$99*</td>\n",
       "      <td>&lt;address class=\"addressReset\"&gt;&lt;span rel=\"v:add...</td>\n",
       "      <td>119366</td>\n",
       "      <td>http://media-cdn.tripadvisor.com/media/photo-s...</td>\n",
       "      <td>2.6</td>\n",
       "      <td>10</td>\n",
       "      <td>AZ</td>\n",
       "      <td>Phoenix</td>\n",
       "      <td>611 West Indian School Road</td>\n",
       "      <td>85013</td>\n",
       "    </tr>\n",
       "    <tr>\n",
       "      <td>25</td>\n",
       "      <td>G5ud7F7F4HglJAxwnbs9vQ</td>\n",
       "      <td>Budget Suites of America</td>\n",
       "      <td>611 W Indian School Rd</td>\n",
       "      <td>Phoenix</td>\n",
       "      <td>AZ</td>\n",
       "      <td>85013</td>\n",
       "      <td>33.493805</td>\n",
       "      <td>-112.081941</td>\n",
       "      <td>1.5</td>\n",
       "      <td>11</td>\n",
       "      <td>...</td>\n",
       "      <td>$99*</td>\n",
       "      <td>&lt;address class=\"addressReset\"&gt;&lt;span rel=\"v:add...</td>\n",
       "      <td>119366</td>\n",
       "      <td>http://media-cdn.tripadvisor.com/media/photo-s...</td>\n",
       "      <td>2.6</td>\n",
       "      <td>10</td>\n",
       "      <td>AZ</td>\n",
       "      <td>Phoenix</td>\n",
       "      <td>611 West Indian School Road</td>\n",
       "      <td>85013</td>\n",
       "    </tr>\n",
       "  </tbody>\n",
       "</table>\n",
       "<p>2 rows × 72 columns</p>\n",
       "</div>"
      ],
      "text/plain": [
       "               business_id                      name                 address  \\\n",
       "24  bphFS_7xYag4Dv_6d8fmVQ  Budget Suites of America     2702 W Yorkshire Dr   \n",
       "25  G5ud7F7F4HglJAxwnbs9vQ  Budget Suites of America  611 W Indian School Rd   \n",
       "\n",
       "       city state postal_code   latitude   longitude  stars  review_count  \\\n",
       "24  Phoenix    AZ       85027  33.663185 -112.117569    2.5            15   \n",
       "25  Phoenix    AZ       85013  33.493805 -112.081941    1.5            11   \n",
       "\n",
       "    ...  Price                                            Address  HotelID  \\\n",
       "24  ...   $99*  <address class=\"addressReset\"><span rel=\"v:add...   119366   \n",
       "25  ...   $99*  <address class=\"addressReset\"><span rel=\"v:add...   119366   \n",
       "\n",
       "                                               ImgURL Overall Review Count  \\\n",
       "24  http://media-cdn.tripadvisor.com/media/photo-s...     2.6           10   \n",
       "25  http://media-cdn.tripadvisor.com/media/photo-s...     2.6           10   \n",
       "\n",
       "   State     City                       Street   Code  \n",
       "24    AZ  Phoenix  611 West Indian School Road  85013  \n",
       "25    AZ  Phoenix  611 West Indian School Road  85013  \n",
       "\n",
       "[2 rows x 72 columns]"
      ]
     },
     "execution_count": 42,
     "metadata": {},
     "output_type": "execute_result"
    }
   ],
   "source": [
    "## I can see there are duplicated Yelp hotels, but what about duplicated TA hotels?\n",
    "dupe_test1 = merged_hotels[merged_hotels.duplicated(['HotelID'], keep=False)]\n",
    "\n",
    "## there is a dupe, but only the second one matches on address\n",
    "dupe_test1"
   ]
  },
  {
   "cell_type": "markdown",
   "metadata": {},
   "source": [
    "There only appears to be one mis-match, so I'll delete that one and keep the rest."
   ]
  },
  {
   "cell_type": "code",
   "execution_count": 43,
   "metadata": {},
   "outputs": [
    {
     "data": {
      "text/plain": [
       "(49, 72)"
      ]
     },
     "execution_count": 43,
     "metadata": {},
     "output_type": "execute_result"
    }
   ],
   "source": [
    "hotels_2 = merged_hotels.drop_duplicates(subset=['HotelID'], keep=\"last\")\n",
    "hotels_2.shape"
   ]
  },
  {
   "cell_type": "code",
   "execution_count": 44,
   "metadata": {},
   "outputs": [
    {
     "data": {
      "text/plain": [
       "(28, 72)"
      ]
     },
     "execution_count": 44,
     "metadata": {},
     "output_type": "execute_result"
    }
   ],
   "source": [
    "dupe_test2 = hotels_2[hotels_2.duplicated(['business_id'], keep=False)].sort_values(by=['business_id', 'Review Count'])\n",
    "\n",
    "## 2nd dupe test shows more dupes, so I'll drop the ones with fewer reviews\n",
    "dupe_test2.shape"
   ]
  },
  {
   "cell_type": "code",
   "execution_count": 45,
   "metadata": {},
   "outputs": [
    {
     "data": {
      "text/plain": [
       "(35, 72)"
      ]
     },
     "execution_count": 45,
     "metadata": {},
     "output_type": "execute_result"
    }
   ],
   "source": [
    "## sorting by review count and then dropping the dupes\n",
    "hotels_final = hotels_2.sort_values(by=['business_id', 'Review Count']).drop_duplicates(subset=['business_id'], keep=\"last\")\n",
    "\n",
    "hotels_final.shape"
   ]
  },
  {
   "cell_type": "markdown",
   "metadata": {},
   "source": [
    "The final dataframe has 35 hotels."
   ]
  },
  {
   "cell_type": "code",
   "execution_count": 46,
   "metadata": {},
   "outputs": [],
   "source": [
    "## save to disk for safekeeping\n",
    "hotels_final.to_csv(r'hotels_final.csv', index=None, header=True)"
   ]
  },
  {
   "cell_type": "markdown",
   "metadata": {},
   "source": [
    "### Getting the reviews into a corpus"
   ]
  },
  {
   "cell_type": "markdown",
   "metadata": {},
   "source": [
    "Now that I've identified the 35 hotels I'm comparing reviews for, it's time to actually gather the reviews into a corpus that I can export and use for analysis."
   ]
  },
  {
   "cell_type": "code",
   "execution_count": 47,
   "metadata": {},
   "outputs": [
    {
     "data": {
      "text/plain": [
       "35"
      ]
     },
     "execution_count": 47,
     "metadata": {},
     "output_type": "execute_result"
    }
   ],
   "source": [
    "## grabbing the hotel id numbers for yelp\n",
    "yelp_hotels = hotels_final['business_id'].unique().tolist()\n",
    "len(yelp_hotels)"
   ]
  },
  {
   "cell_type": "code",
   "execution_count": 48,
   "metadata": {},
   "outputs": [
    {
     "data": {
      "text/plain": [
       "35"
      ]
     },
     "execution_count": 48,
     "metadata": {},
     "output_type": "execute_result"
    }
   ],
   "source": [
    "## grabbing the hotel id numbers for ta\n",
    "ta_hotels = hotels_final['HotelID'].unique().tolist()\n",
    "len(ta_hotels)"
   ]
  },
  {
   "cell_type": "markdown",
   "metadata": {},
   "source": [
    "The review data for TA is still in ta_data, but we need to loop through it to pull out only the reviews for the 49 hotels we've chosen."
   ]
  },
  {
   "cell_type": "code",
   "execution_count": 49,
   "metadata": {},
   "outputs": [
    {
     "data": {
      "text/plain": [
       "35"
      ]
     },
     "execution_count": 49,
     "metadata": {},
     "output_type": "execute_result"
    }
   ],
   "source": [
    "## looping through the hotels to grab only the matched ones\n",
    "ta_az = [i for i in ta_data if i['HotelInfo']['HotelID'] in ta_hotels]\n",
    "\n",
    "## now we have a list of all the hotels we chose and the reviews for each of them\n",
    "len(ta_az)"
   ]
  },
  {
   "cell_type": "markdown",
   "metadata": {},
   "source": [
    "Now I'll build the corpus for the Yelp data"
   ]
  },
  {
   "cell_type": "code",
   "execution_count": 50,
   "metadata": {},
   "outputs": [
    {
     "data": {
      "text/plain": [
       "3572"
      ]
     },
     "execution_count": 50,
     "metadata": {},
     "output_type": "execute_result"
    }
   ],
   "source": [
    "## looping through the hotels to grab only the matched ones\n",
    "yelp_az = [i for i in yelp_data if i['business_id'] in yelp_hotels]\n",
    "\n",
    "## now we have a list of all the reviews for each hotel that we chose\n",
    "len(yelp_az)"
   ]
  },
  {
   "cell_type": "code",
   "execution_count": 51,
   "metadata": {},
   "outputs": [],
   "source": [
    "## save to disk\n",
    "with open('ta_az.txt', 'w') as file:\n",
    "    file.write(json.dumps(ta_az))"
   ]
  },
  {
   "cell_type": "code",
   "execution_count": 52,
   "metadata": {},
   "outputs": [],
   "source": [
    "## save to disk\n",
    "with open('yelp_az.txt', 'w') as file:\n",
    "    file.write(json.dumps(yelp_az))"
   ]
  },
  {
   "cell_type": "markdown",
   "metadata": {},
   "source": [
    "## Final Project -- NLP Analysis"
   ]
  },
  {
   "cell_type": "markdown",
   "metadata": {},
   "source": [
    "In this section, my goal was to conduct an exploratory natural language processing analysis that would compare reviews across platforms and reviews any differences in review length, language style/readability, and topic/theme.\n",
    "\n",
    "My analysis used readability measures included in Textastic(), word and sentance counts per review and tf-idf. I also included an addendum where I attempted an exploratory topic analysis using POS taggin, although it didn't quite work out!"
   ]
  },
  {
   "cell_type": "code",
   "execution_count": 4,
   "metadata": {},
   "outputs": [],
   "source": [
    "## opening TripAdvisor corpus\n",
    "with open('ta_az.txt') as text:\n",
    "    ta_data = eval(text.read())"
   ]
  },
  {
   "cell_type": "code",
   "execution_count": 5,
   "metadata": {},
   "outputs": [],
   "source": [
    "## opening Yelp corpus\n",
    "with open('yelp_az.txt') as text:\n",
    "    yelp_data = eval(text.read())"
   ]
  },
  {
   "cell_type": "code",
   "execution_count": 55,
   "metadata": {},
   "outputs": [],
   "source": [
    "## opening the hotel attribute file\n",
    "hotels = pd.read_csv('hotels_final.csv')"
   ]
  },
  {
   "cell_type": "code",
   "execution_count": 56,
   "metadata": {},
   "outputs": [
    {
     "data": {
      "text/plain": [
       "(35, 72)"
      ]
     },
     "execution_count": 56,
     "metadata": {},
     "output_type": "execute_result"
    }
   ],
   "source": [
    "## taking a peek at the hotel dataframe\n",
    "hotels.shape"
   ]
  },
  {
   "cell_type": "markdown",
   "metadata": {},
   "source": [
    "At this point I realized that the best way to analyze the texts might be to compare positive reviews and negative reviews across platforms. My thinking here is that highly positive/negative reviews are likely to be more emotional in tone."
   ]
  },
  {
   "cell_type": "markdown",
   "metadata": {},
   "source": [
    "Before dividing up the corpuses into positive/negative reviews however, I decided to do a quick exploratory analysis using the hotels dataframe to see what summary statistics can tell us about both datasets."
   ]
  },
  {
   "cell_type": "markdown",
   "metadata": {},
   "source": [
    "### Exploratory Analysis"
   ]
  },
  {
   "cell_type": "code",
   "execution_count": 57,
   "metadata": {},
   "outputs": [
    {
     "data": {
      "text/plain": [
       "array([<matplotlib.axes._subplots.AxesSubplot object at 0x00000249C2FA0588>],\n",
       "      dtype=object)"
      ]
     },
     "execution_count": 57,
     "metadata": {},
     "output_type": "execute_result"
    },
    {
     "data": {
      "image/png": "[encoded data removed]",
      "text/plain": [
       "<Figure size 720x360 with 2 Axes>"
      ]
     },
     "metadata": {
      "needs_background": "light"
     },
     "output_type": "display_data"
    }
   ],
   "source": [
    "fig = plt.figure(figsize=(10,5))\n",
    "\n",
    "ax1 = fig.add_subplot(211)\n",
    "ax2 = fig.add_subplot(212)\n",
    "\n",
    "## getting rid of gross lines\n",
    "ax1.spines['right'].set_visible(False)\n",
    "ax1.spines['top'].set_visible(False)\n",
    "ax2.spines['right'].set_visible(False)\n",
    "ax2.spines['top'].set_visible(False)\n",
    "\n",
    "ax1.set_xlim(0,5)\n",
    "ax2.set_xlim(0,5)\n",
    "ax1.set_ylim(0,16)\n",
    "ax2.set_ylim(0,16)\n",
    "\n",
    "## plotting Yelp on the first graph and Tripadvisor on the second\n",
    "hotels.hist(column='stars', ax=ax1)\n",
    "hotels.hist(column='Overall', ax=ax2)"
   ]
  },
  {
   "cell_type": "markdown",
   "metadata": {},
   "source": [
    "The histograms above show the distribution of hotels by their average rating. Looking at them side by side, it appears that TripAdvisor has more hotels with higher ratings. Yelp, on the other hand, has a lot of hotels with \"neutral\", or 3-star ratings."
   ]
  },
  {
   "cell_type": "code",
   "execution_count": 58,
   "metadata": {},
   "outputs": [
    {
     "data": {
      "text/plain": [
       "<matplotlib.axes._subplots.AxesSubplot at 0x249cc1a88c8>"
      ]
     },
     "execution_count": 58,
     "metadata": {},
     "output_type": "execute_result"
    },
    {
     "data": {
      "image/png": "[encoded data removed]",
      "text/plain": [
       "<Figure size 720x360 with 2 Axes>"
      ]
     },
     "metadata": {
      "needs_background": "light"
     },
     "output_type": "display_data"
    }
   ],
   "source": [
    "fig = plt.figure(figsize=(10,5))\n",
    "\n",
    "ax1 = fig.add_subplot(211)\n",
    "ax2 = fig.add_subplot(212)\n",
    "\n",
    "## getting rid of gross lines\n",
    "ax1.spines['right'].set_visible(False)\n",
    "ax1.spines['top'].set_visible(False)\n",
    "ax1.xaxis.set_visible(False)\n",
    "ax2.spines['right'].set_visible(False)\n",
    "ax2.spines['top'].set_visible(False)\n",
    "\n",
    "ax1.set_title('Average Yelp Rating (by hotel)')\n",
    "ax2.set_title('Average TripAdvisor Rating (by hotel)')\n",
    "\n",
    "ax1.set_ylim(0,5)\n",
    "ax2.set_ylim(0,5)\n",
    "\n",
    "## plotting Yelp on the first graph and Tripadvisor on the second\n",
    "hotels.plot.bar(y='stars', ax=ax1, legend=False)\n",
    "hotels.plot.bar(y='Overall', ax=ax2, legend=False)"
   ]
  },
  {
   "cell_type": "markdown",
   "metadata": {},
   "source": [
    "It looks like TripAdvisor reviews do tend to be higher for individual hotels on average."
   ]
  },
  {
   "cell_type": "code",
   "execution_count": 59,
   "metadata": {},
   "outputs": [
    {
     "data": {
      "text/plain": [
       "array([<matplotlib.axes._subplots.AxesSubplot object at 0x00000249E868FE48>],\n",
       "      dtype=object)"
      ]
     },
     "execution_count": 59,
     "metadata": {},
     "output_type": "execute_result"
    },
    {
     "data": {
      "image/png": "[encoded data removed]",
      "text/plain": [
       "<Figure size 720x504 with 2 Axes>"
      ]
     },
     "metadata": {
      "needs_background": "light"
     },
     "output_type": "display_data"
    }
   ],
   "source": [
    "fig = plt.figure(figsize=(10,7))\n",
    "\n",
    "ax1 = fig.add_subplot(211)\n",
    "ax2 = fig.add_subplot(212)\n",
    "\n",
    "## getting rid of gross lines\n",
    "ax1.spines['right'].set_visible(False)\n",
    "ax1.spines['top'].set_visible(False)\n",
    "ax2.spines['right'].set_visible(False)\n",
    "ax2.spines['top'].set_visible(False)\n",
    "\n",
    "ax1.set_xlim(0,700)\n",
    "ax2.set_xlim(0,700)\n",
    "ax1.set_ylim(0,25)\n",
    "ax2.set_ylim(0,25)\n",
    "\n",
    "## plotting Yelp on the first graph and Tripadvisor on the second\n",
    "hotels.hist(column='review_count', ax=ax1)\n",
    "hotels.hist(column='Review Count', ax=ax2)"
   ]
  },
  {
   "cell_type": "markdown",
   "metadata": {},
   "source": [
    "Looking at the distribution of reviews across platforms, it looks like most hotels on both Yelp and TripAdvisor have fewer than 100 reviews, with the exception of a few hotels that have close to 500."
   ]
  },
  {
   "cell_type": "code",
   "execution_count": 60,
   "metadata": {},
   "outputs": [
    {
     "data": {
      "text/plain": [
       "<matplotlib.axes._subplots.AxesSubplot at 0x24a03ef7e88>"
      ]
     },
     "execution_count": 60,
     "metadata": {},
     "output_type": "execute_result"
    },
    {
     "data": {
      "image/png": "[encoded data removed]",
      "text/plain": [
       "<Figure size 720x360 with 2 Axes>"
      ]
     },
     "metadata": {
      "needs_background": "light"
     },
     "output_type": "display_data"
    }
   ],
   "source": [
    "## setting up the plot\n",
    "fig = plt.figure(figsize=(10,5))\n",
    "\n",
    "ax1 = fig.add_subplot(211)\n",
    "ax2 = fig.add_subplot(212)\n",
    "\n",
    "## getting rid of gross lines\n",
    "ax1.spines['right'].set_visible(False)\n",
    "ax1.spines['top'].set_visible(False)\n",
    "ax2.spines['right'].set_visible(False)\n",
    "ax2.spines['top'].set_visible(False)\n",
    "\n",
    "ax1.set_ylim(0,700)\n",
    "ax2.set_ylim(0,700)\n",
    "\n",
    "## plotting Yelp on the first graph and Tripadvisor on the second\n",
    "hotels.plot.bar(y='review_count', ax=ax1, legend=False)\n",
    "hotels.plot.bar(y='Review Count', ax=ax2, legend=False)"
   ]
  },
  {
   "cell_type": "markdown",
   "metadata": {},
   "source": [
    "Comparing number of reviews hotel-by-hotel, the bar charts for Yelp and TripAdvisor look very similiar. There also doesn't appear to be any major relationship between hotel rating and number of reviews, so we can probably assume that the hotels above with lots and lots of reviews are just more popular in general."
   ]
  },
  {
   "cell_type": "markdown",
   "metadata": {},
   "source": [
    "### Cleaning up both corpuses"
   ]
  },
  {
   "cell_type": "markdown",
   "metadata": {},
   "source": [
    "Both text documents still have the reviews and the associated review data in them, so I still need to loop through both and isolate the review text itself."
   ]
  },
  {
   "cell_type": "code",
   "execution_count": 6,
   "metadata": {},
   "outputs": [
    {
     "data": {
      "text/plain": [
       "3582"
      ]
     },
     "execution_count": 6,
     "metadata": {},
     "output_type": "execute_result"
    }
   ],
   "source": [
    "## loopin through the TA data\n",
    "ta_reviews = []\n",
    "\n",
    "for i in ta_data:\n",
    "    r = i['Reviews']\n",
    "    for x in r:\n",
    "        c = x['Content']\n",
    "        ta_reviews.append(c)\n",
    "\n",
    "## there are 3582 TA reviews\n",
    "len(ta_reviews)\n",
    "\n",
    "## ta_reviews is the list of strings, each item is a review"
   ]
  },
  {
   "cell_type": "code",
   "execution_count": 62,
   "metadata": {},
   "outputs": [
    {
     "data": {
      "text/plain": [
       "3572"
      ]
     },
     "execution_count": 62,
     "metadata": {},
     "output_type": "execute_result"
    }
   ],
   "source": [
    "## looopin through the yelp data\n",
    "yelp_reviews = []\n",
    "\n",
    "for i in yelp_data:\n",
    "    r = i['text']\n",
    "    yelp_reviews.append(r)\n",
    "\n",
    "## there are 3572 yelp reviews\n",
    "len(yelp_reviews)\n",
    "\n",
    "## yelp_reviews is the list of strings, each item is a review"
   ]
  },
  {
   "cell_type": "code",
   "execution_count": 63,
   "metadata": {},
   "outputs": [],
   "source": [
    "## here I'm joining all the reviews into one giant corpus\n",
    "yelp_corp = ' '.join(yelp_reviews)\n",
    "ta_corp = ' '.join(ta_reviews)\n",
    "\n",
    "## I found some chinese words/characters in the reviews, so here I'm just dropping those characters\n",
    "yelp_corp_asc = yelp_corp.encode(\"ascii\", errors=\"ignore\").decode()\n",
    "ta_corp_asc = ta_corp.encode(\"ascii\", errors=\"ignore\").decode()"
   ]
  },
  {
   "cell_type": "markdown",
   "metadata": {},
   "source": [
    "For my first method of analysis, I chose to look at readability and word count to see if there were any differences between the two platforms.\n",
    "\n",
    "First for Yelp:"
   ]
  },
  {
   "cell_type": "code",
   "execution_count": 64,
   "metadata": {},
   "outputs": [],
   "source": [
    "## getting an obeject for textatistic calculations -- first is Yelp\n",
    "yelp_read = Textatistic(yelp_corp_asc)\n",
    "\n",
    "## return dictionary of all attribute values\n",
    "yelp_values = yelp_read.dict()\n",
    "\n",
    "## putting them in a dataframe\n",
    "df_yelp = pd.DataFrame(list(yelp_values.items()), columns= ['metric', 'yelp_value'])"
   ]
  },
  {
   "cell_type": "code",
   "execution_count": 65,
   "metadata": {},
   "outputs": [
    {
     "data": {
      "text/html": [
       "<div>\n",
       "<style scoped>\n",
       "    .dataframe tbody tr th:only-of-type {\n",
       "        vertical-align: middle;\n",
       "    }\n",
       "\n",
       "    .dataframe tbody tr th {\n",
       "        vertical-align: top;\n",
       "    }\n",
       "\n",
       "    .dataframe thead th {\n",
       "        text-align: right;\n",
       "    }\n",
       "</style>\n",
       "<table border=\"1\" class=\"dataframe\">\n",
       "  <thead>\n",
       "    <tr style=\"text-align: right;\">\n",
       "      <th></th>\n",
       "      <th>metric</th>\n",
       "      <th>yelp_value</th>\n",
       "      <th>yelp_perreview</th>\n",
       "    </tr>\n",
       "  </thead>\n",
       "  <tbody>\n",
       "    <tr>\n",
       "      <td>0</td>\n",
       "      <td>char_count</td>\n",
       "      <td>2.339187e+06</td>\n",
       "      <td>654.867581</td>\n",
       "    </tr>\n",
       "    <tr>\n",
       "      <td>1</td>\n",
       "      <td>word_count</td>\n",
       "      <td>5.341280e+05</td>\n",
       "      <td>149.531915</td>\n",
       "    </tr>\n",
       "    <tr>\n",
       "      <td>2</td>\n",
       "      <td>sent_count</td>\n",
       "      <td>4.308600e+04</td>\n",
       "      <td>12.062150</td>\n",
       "    </tr>\n",
       "    <tr>\n",
       "      <td>3</td>\n",
       "      <td>sybl_count</td>\n",
       "      <td>6.663110e+05</td>\n",
       "      <td>186.537234</td>\n",
       "    </tr>\n",
       "    <tr>\n",
       "      <td>4</td>\n",
       "      <td>notdalechall_count</td>\n",
       "      <td>8.253800e+04</td>\n",
       "      <td>23.106943</td>\n",
       "    </tr>\n",
       "    <tr>\n",
       "      <td>5</td>\n",
       "      <td>polysyblword_count</td>\n",
       "      <td>2.442400e+04</td>\n",
       "      <td>6.837626</td>\n",
       "    </tr>\n",
       "    <tr>\n",
       "      <td>6</td>\n",
       "      <td>flesch_score</td>\n",
       "      <td>8.871593e+01</td>\n",
       "      <td>NaN</td>\n",
       "    </tr>\n",
       "    <tr>\n",
       "      <td>7</td>\n",
       "      <td>fleschkincaid_score</td>\n",
       "      <td>3.964945e+00</td>\n",
       "      <td>NaN</td>\n",
       "    </tr>\n",
       "    <tr>\n",
       "      <td>8</td>\n",
       "      <td>gunningfog_score</td>\n",
       "      <td>6.787790e+00</td>\n",
       "      <td>NaN</td>\n",
       "    </tr>\n",
       "    <tr>\n",
       "      <td>9</td>\n",
       "      <td>smog_score</td>\n",
       "      <td>7.430256e+00</td>\n",
       "      <td>NaN</td>\n",
       "    </tr>\n",
       "    <tr>\n",
       "      <td>10</td>\n",
       "      <td>dalechall_score</td>\n",
       "      <td>6.691386e+00</td>\n",
       "      <td>NaN</td>\n",
       "    </tr>\n",
       "  </tbody>\n",
       "</table>\n",
       "</div>"
      ],
      "text/plain": [
       "                 metric    yelp_value  yelp_perreview\n",
       "0            char_count  2.339187e+06      654.867581\n",
       "1            word_count  5.341280e+05      149.531915\n",
       "2            sent_count  4.308600e+04       12.062150\n",
       "3            sybl_count  6.663110e+05      186.537234\n",
       "4    notdalechall_count  8.253800e+04       23.106943\n",
       "5    polysyblword_count  2.442400e+04        6.837626\n",
       "6          flesch_score  8.871593e+01             NaN\n",
       "7   fleschkincaid_score  3.964945e+00             NaN\n",
       "8      gunningfog_score  6.787790e+00             NaN\n",
       "9            smog_score  7.430256e+00             NaN\n",
       "10      dalechall_score  6.691386e+00             NaN"
      ]
     },
     "execution_count": 65,
     "metadata": {},
     "output_type": "execute_result"
    }
   ],
   "source": [
    "## getting each count per-review by dividing by the number of reviews\n",
    "df_yelp['yelp_perreview'] = df_yelp.iloc[0:6, 1]/len(yelp_reviews)\n",
    "\n",
    "df_yelp"
   ]
  },
  {
   "cell_type": "markdown",
   "metadata": {},
   "source": [
    "For Yelp, it looks like the average word count per review on yelp is about 150, and the average number of sentances is 12.\n",
    "\n",
    "The Dale Chall score is also 6.69, which would indicate a reading level of an average 7th or 8th grader.\n",
    "\n",
    "Now for TripAdvisor:"
   ]
  },
  {
   "cell_type": "code",
   "execution_count": 66,
   "metadata": {},
   "outputs": [],
   "source": [
    "## getting an obeject for textatistic calculations -- now TripAdvisor\n",
    "ta_read = Textatistic(ta_corp_asc)\n",
    "\n",
    "## return dictionary of all attribute values\n",
    "ta_values = ta_read.dict()\n",
    "\n",
    "## putting them in a dataframe\n",
    "df_ta = pd.DataFrame(list(ta_values.items()), columns= ['metric', 'ta_value'])"
   ]
  },
  {
   "cell_type": "code",
   "execution_count": 67,
   "metadata": {},
   "outputs": [
    {
     "data": {
      "text/html": [
       "<div>\n",
       "<style scoped>\n",
       "    .dataframe tbody tr th:only-of-type {\n",
       "        vertical-align: middle;\n",
       "    }\n",
       "\n",
       "    .dataframe tbody tr th {\n",
       "        vertical-align: top;\n",
       "    }\n",
       "\n",
       "    .dataframe thead th {\n",
       "        text-align: right;\n",
       "    }\n",
       "</style>\n",
       "<table border=\"1\" class=\"dataframe\">\n",
       "  <thead>\n",
       "    <tr style=\"text-align: right;\">\n",
       "      <th></th>\n",
       "      <th>metric</th>\n",
       "      <th>ta_value</th>\n",
       "      <th>ta_perreview</th>\n",
       "    </tr>\n",
       "  </thead>\n",
       "  <tbody>\n",
       "    <tr>\n",
       "      <td>0</td>\n",
       "      <td>char_count</td>\n",
       "      <td>2.826932e+06</td>\n",
       "      <td>789.204913</td>\n",
       "    </tr>\n",
       "    <tr>\n",
       "      <td>1</td>\n",
       "      <td>word_count</td>\n",
       "      <td>6.379000e+05</td>\n",
       "      <td>178.084869</td>\n",
       "    </tr>\n",
       "    <tr>\n",
       "      <td>2</td>\n",
       "      <td>sent_count</td>\n",
       "      <td>4.671000e+04</td>\n",
       "      <td>13.040201</td>\n",
       "    </tr>\n",
       "    <tr>\n",
       "      <td>3</td>\n",
       "      <td>sybl_count</td>\n",
       "      <td>8.053370e+05</td>\n",
       "      <td>224.828867</td>\n",
       "    </tr>\n",
       "    <tr>\n",
       "      <td>4</td>\n",
       "      <td>notdalechall_count</td>\n",
       "      <td>1.032910e+05</td>\n",
       "      <td>28.836125</td>\n",
       "    </tr>\n",
       "    <tr>\n",
       "      <td>5</td>\n",
       "      <td>polysyblword_count</td>\n",
       "      <td>3.226700e+04</td>\n",
       "      <td>9.008096</td>\n",
       "    </tr>\n",
       "    <tr>\n",
       "      <td>6</td>\n",
       "      <td>flesch_score</td>\n",
       "      <td>8.616760e+01</td>\n",
       "      <td>NaN</td>\n",
       "    </tr>\n",
       "    <tr>\n",
       "      <td>7</td>\n",
       "      <td>fleschkincaid_score</td>\n",
       "      <td>4.633358e+00</td>\n",
       "      <td>NaN</td>\n",
       "    </tr>\n",
       "    <tr>\n",
       "      <td>8</td>\n",
       "      <td>gunningfog_score</td>\n",
       "      <td>7.485968e+00</td>\n",
       "      <td>NaN</td>\n",
       "    </tr>\n",
       "    <tr>\n",
       "      <td>9</td>\n",
       "      <td>smog_score</td>\n",
       "      <td>7.877194e+00</td>\n",
       "      <td>NaN</td>\n",
       "    </tr>\n",
       "    <tr>\n",
       "      <td>10</td>\n",
       "      <td>dalechall_score</td>\n",
       "      <td>6.870640e+00</td>\n",
       "      <td>NaN</td>\n",
       "    </tr>\n",
       "  </tbody>\n",
       "</table>\n",
       "</div>"
      ],
      "text/plain": [
       "                 metric      ta_value  ta_perreview\n",
       "0            char_count  2.826932e+06    789.204913\n",
       "1            word_count  6.379000e+05    178.084869\n",
       "2            sent_count  4.671000e+04     13.040201\n",
       "3            sybl_count  8.053370e+05    224.828867\n",
       "4    notdalechall_count  1.032910e+05     28.836125\n",
       "5    polysyblword_count  3.226700e+04      9.008096\n",
       "6          flesch_score  8.616760e+01           NaN\n",
       "7   fleschkincaid_score  4.633358e+00           NaN\n",
       "8      gunningfog_score  7.485968e+00           NaN\n",
       "9            smog_score  7.877194e+00           NaN\n",
       "10      dalechall_score  6.870640e+00           NaN"
      ]
     },
     "execution_count": 67,
     "metadata": {},
     "output_type": "execute_result"
    }
   ],
   "source": [
    "## getting each count per-review by dividing by the number of reviews\n",
    "df_ta['ta_perreview'] = df_ta.iloc[0:6, 1]/len(ta_reviews)\n",
    "\n",
    "df_ta"
   ]
  },
  {
   "cell_type": "markdown",
   "metadata": {},
   "source": [
    "For TripAdvisor, it looks like the average word count is slightly higher at 178 words per review. The Dale Chall score is pretty much the same as well."
   ]
  },
  {
   "cell_type": "markdown",
   "metadata": {},
   "source": [
    "### Getting the tf-idf together"
   ]
  },
  {
   "cell_type": "markdown",
   "metadata": {},
   "source": [
    "Before looking at positive and negative reviews seperately, I wanted to do a quick comparison of the overall topics between both platforms.\n",
    "\n",
    "Here I decided to keep some punctuation, since the text data was very clean and looking at the number of \"!\"s and \"?\"s might be interesting. I also thought I'd keep first-person pronouns, as it might be interesting to see how frequently reviewers across platforms talked about themselves!"
   ]
  },
  {
   "cell_type": "code",
   "execution_count": 68,
   "metadata": {},
   "outputs": [],
   "source": [
    "## putting the corpuses into a dictionary where the keys are the platform\n",
    "all_dict = {'yelp': yelp_corp_asc, 'ta': ta_corp_asc}\n",
    "\n",
    "reviews = list(all_dict.values())\n",
    "## so reviews is a list of 2, consisting of the yelp reviews and the ta reviews"
   ]
  },
  {
   "cell_type": "code",
   "execution_count": 69,
   "metadata": {},
   "outputs": [],
   "source": [
    "## getting my personalized list of stopwords\n",
    "keep_punc = ['!', '?', '$']\n",
    "keep_words = ['we', 'me', 'my', 'mine', 'myself', 'our', 'ours']\n",
    "punct2 = [elem for elem in list(punctuation) if elem not in keep_punc]\n",
    "words2 = [elem for elem in stopwords.words('english') if elem not in keep_words]\n",
    "\n",
    "stop_words = words2 + punct2"
   ]
  },
  {
   "cell_type": "code",
   "execution_count": 70,
   "metadata": {},
   "outputs": [
    {
     "data": {
      "text/plain": [
       "2"
      ]
     },
     "execution_count": 70,
     "metadata": {},
     "output_type": "execute_result"
    }
   ],
   "source": [
    "clean_reviews = []\n",
    "\n",
    "## the cleaning\n",
    "for x in reviews:\n",
    "    x = word_tokenize(x)\n",
    "    x = [w.lower() for w in x]\n",
    "    x = [w for w in x if w not in stop_words]\n",
    "    x = [w for w in x if w.isdigit()==False]\n",
    "    clean_reviews.append(x)\n",
    "\n",
    "## clean_reviews is the list of yelp and ta reviews containing the lists of cleaned tokenized words\n",
    "len(clean_reviews)"
   ]
  },
  {
   "cell_type": "code",
   "execution_count": 71,
   "metadata": {},
   "outputs": [],
   "source": [
    "## now turning the list of tokenized words back into two large strings so I can plug them into the vectorizor\n",
    "reviews_str = [\" \".join(x) for x in clean_reviews]\n",
    "\n",
    "## this is for indexing\n",
    "platform = ['Yelp', 'TripAdvisor']"
   ]
  },
  {
   "cell_type": "code",
   "execution_count": 72,
   "metadata": {},
   "outputs": [],
   "source": [
    "## I chose an n-gram range of 1 to 2\n",
    "vectorizer = TfidfVectorizer(ngram_range=(1, 2), stop_words=None, token_pattern=r\"(?u)\\b\\w\\w+\\b|!|\\?|\\$\")\n",
    "## I realized that the vectorizer function automatically gets rid of punctuation, so I had to add this regex to make sure it keeps \"!\", \"?\", and \"$\"\n",
    "\n",
    "## the list of documents is 2, 1st is yelp 2nd is ta\n",
    "vectors = vectorizer.fit_transform(reviews_str)\n",
    "\n",
    "## getting the feature names\n",
    "feature_names = vectorizer.get_feature_names()\n",
    "dense = vectors.todense()\n",
    "denselist = dense.tolist()\n",
    "\n",
    "## creating a dataframe with the feature names as columns and the platform as the row\n",
    "df = pd.DataFrame(denselist, columns=feature_names, index=platform)\n",
    "\n",
    "## finally, transposing\n",
    "df_t = df.T"
   ]
  },
  {
   "cell_type": "code",
   "execution_count": 73,
   "metadata": {},
   "outputs": [
    {
     "data": {
      "text/plain": [
       "we         0.407992\n",
       "room       0.303070\n",
       "!          0.293210\n",
       "my         0.281106\n",
       "hotel      0.238743\n",
       "our        0.164149\n",
       "stay       0.141777\n",
       "would      0.129537\n",
       "me         0.129401\n",
       "nice       0.126613\n",
       "one        0.121718\n",
       "great      0.121514\n",
       "pool       0.121242\n",
       "staff      0.111314\n",
       "service    0.100978\n",
       "get        0.100162\n",
       "rooms      0.097306\n",
       "place      0.096898\n",
       "like       0.088534\n",
       "us         0.088058\n",
       "Name: Yelp, dtype: float64"
      ]
     },
     "execution_count": 73,
     "metadata": {},
     "output_type": "execute_result"
    }
   ],
   "source": [
    "df_t.nlargest(20,'Yelp')['Yelp']"
   ]
  },
  {
   "cell_type": "code",
   "execution_count": 74,
   "metadata": {},
   "outputs": [
    {
     "data": {
      "text/plain": [
       "we         0.523523\n",
       "room       0.283717\n",
       "hotel      0.245708\n",
       "!          0.205424\n",
       "our        0.201417\n",
       "my         0.194000\n",
       "pool       0.137040\n",
       "stay       0.132329\n",
       "great      0.131625\n",
       "would      0.126373\n",
       "nice       0.124153\n",
       "one        0.120580\n",
       "staff      0.117493\n",
       "resort     0.109534\n",
       "good       0.103362\n",
       "service    0.095890\n",
       "rooms      0.095403\n",
       "area       0.093562\n",
       "stayed     0.089176\n",
       "us         0.085440\n",
       "Name: TripAdvisor, dtype: float64"
      ]
     },
     "execution_count": 74,
     "metadata": {},
     "output_type": "execute_result"
    }
   ],
   "source": [
    "df_t.nlargest(20,'TripAdvisor')['TripAdvisor']"
   ]
  },
  {
   "cell_type": "markdown",
   "metadata": {},
   "source": [
    "TripAdvisor has a lot of chatter about the pools! Yelp apparently has more !s though."
   ]
  },
  {
   "cell_type": "code",
   "execution_count": 75,
   "metadata": {},
   "outputs": [
    {
     "data": {
      "text/plain": [
       "Yelp           0.293210\n",
       "TripAdvisor    0.205424\n",
       "Name: !, dtype: float64"
      ]
     },
     "execution_count": 75,
     "metadata": {},
     "output_type": "execute_result"
    }
   ],
   "source": [
    "df.sort_values('!', ascending=False)['!']"
   ]
  },
  {
   "cell_type": "code",
   "execution_count": 76,
   "metadata": {},
   "outputs": [
    {
     "data": {
      "text/plain": [
       "TripAdvisor    0.070280\n",
       "Yelp           0.060383\n",
       "Name: $, dtype: float64"
      ]
     },
     "execution_count": 76,
     "metadata": {},
     "output_type": "execute_result"
    }
   ],
   "source": [
    "df.sort_values('$', ascending=False)['$']"
   ]
  },
  {
   "cell_type": "markdown",
   "metadata": {},
   "source": [
    "TripAdvisor might talk more about money!"
   ]
  },
  {
   "cell_type": "markdown",
   "metadata": {},
   "source": [
    "### Comparing \"bad\" and \"good\" reviews for Yelp and TripAdvisor"
   ]
  },
  {
   "cell_type": "markdown",
   "metadata": {},
   "source": [
    "Next, I'll repeat the analysis above but this time I'll create 4 corpuses with positive and negative reviews for each platform.\n",
    "\n",
    "First, looping through the original corpuses to group them by rating."
   ]
  },
  {
   "cell_type": "code",
   "execution_count": 77,
   "metadata": {},
   "outputs": [
    {
     "data": {
      "text/plain": [
       "1204"
      ]
     },
     "execution_count": 77,
     "metadata": {},
     "output_type": "execute_result"
    }
   ],
   "source": [
    "## empty list where I'll keep all the bad reviews for yelp\n",
    "bad_yelp = []\n",
    "\n",
    "## looping through data to collect reviews with fewer than 3 stars\n",
    "for i in yelp_data:\n",
    "    r = i['text']\n",
    "    if i['stars'] < 3:\n",
    "        bad_yelp.append(r)\n",
    "\n",
    "## there are 1204 bad reviews on yelp\n",
    "len(bad_yelp)"
   ]
  },
  {
   "cell_type": "code",
   "execution_count": 78,
   "metadata": {},
   "outputs": [
    {
     "data": {
      "text/plain": [
       "\"One of the crappier Marriotts I've ever stayed at. The staff is nice and professional enough. But the fact that it's right by the frontage road along I-17, you tend to attract a seedier crowd. Also, with three floors worth of rooms here, guess how many washer/dryer they have for everyone? ONE crappy washer and ONE crappy dryer! Don't even think about washing your clothes on a Friday night. For a two hour period, I went to see if the washer was finally available, each time I was met with yet another load of dirty clothes inside. If they can't afford to get more machines, consider installing one of those number ticket dispensers! Just a thought. Maybe I would have a better shot of washing my clothes. I also considered sitting on top of the washer until the load was done, but that would be kind of creepy on my part. I will be packing all my dirty clothes with me and never come back here again.\""
      ]
     },
     "execution_count": 78,
     "metadata": {},
     "output_type": "execute_result"
    }
   ],
   "source": [
    "## taking a peek at the first bad review in the list\n",
    "bad_yelp[0]"
   ]
  },
  {
   "cell_type": "code",
   "execution_count": 79,
   "metadata": {},
   "outputs": [
    {
     "data": {
      "text/plain": [
       "562"
      ]
     },
     "execution_count": 79,
     "metadata": {},
     "output_type": "execute_result"
    }
   ],
   "source": [
    "## empty list where I'll keep all the bad reviews for TA\n",
    "bad_ta = []\n",
    "\n",
    "## looping through data to collect reviews less than a 3 out of 5\n",
    "for i in ta_data:\n",
    "    r = i['Reviews']\n",
    "    for x in r:\n",
    "        x['Ratings']['Overall'] = float(x['Ratings']['Overall'])\n",
    "        if x['Ratings']['Overall'] < 3:\n",
    "            bad_ta.append(x['Content'])\n",
    "\n",
    "## there are 562 bad reviews on TripAdvisor\n",
    "len(bad_ta)"
   ]
  },
  {
   "cell_type": "code",
   "execution_count": 80,
   "metadata": {},
   "outputs": [
    {
     "data": {
      "text/plain": [
       "\"I love character hotels, and rate some older hotels as my very favorites. But the San Carlos is just dingy and inadequate. The rooms look like a place you check in to kill yourself (maybe that's why the windows don't open): drab, featureless, and slighltly dirty. Cracked tiles throughout the tiny bathroom. No room service, no restaurant really on site (there is something called the Ghost Lounge, but it's just a dusty, joyless bar). The fitness center is a random room with a few machines scattered about, including a non-functioning treadmill. Ignorant staff -- I asked for directions to a meeting that was just two blocks away, and was sent in the opposite direction. And all this for $199 a night.\""
      ]
     },
     "execution_count": 80,
     "metadata": {},
     "output_type": "execute_result"
    }
   ],
   "source": [
    "## taking a peek at the first bad review in the list\n",
    "bad_ta[0]"
   ]
  },
  {
   "cell_type": "code",
   "execution_count": 81,
   "metadata": {},
   "outputs": [
    {
     "data": {
      "text/plain": [
       "1758"
      ]
     },
     "execution_count": 81,
     "metadata": {},
     "output_type": "execute_result"
    }
   ],
   "source": [
    "## empty list where I'll keep all the good reviews for yelp\n",
    "good_yelp = []\n",
    "\n",
    "## looping through data to collect reviews with more than 3 stars\n",
    "for i in yelp_data:\n",
    "    r = i['text']\n",
    "    if i['stars'] > 3:\n",
    "        good_yelp.append(r)\n",
    "\n",
    "## there are 1758 bad reviews on yelp\n",
    "len(good_yelp)"
   ]
  },
  {
   "cell_type": "code",
   "execution_count": 82,
   "metadata": {},
   "outputs": [
    {
     "data": {
      "text/plain": [
       "'My company hosted a dinner and awards night at the hotel last night and the experience was the best we could have imagined! Working with Kristine Cole was fantastic and the communication was always on point. I walked in to be blown away by the set up and I had compliments on the food all night. I came into work today to be flooded with emails on how impressed everyone was with the presentation. The staff that was there to help us was GREAT! I believe Tim was in charge and he had Anna and one other gentleman with him and they made us laugh and gave us the privacy we needed. We will be back and I will be recommending them to everyone!'"
      ]
     },
     "execution_count": 82,
     "metadata": {},
     "output_type": "execute_result"
    }
   ],
   "source": [
    "## taking a peek at the first good review in the list\n",
    "good_yelp[0]"
   ]
  },
  {
   "cell_type": "code",
   "execution_count": 83,
   "metadata": {},
   "outputs": [
    {
     "data": {
      "text/plain": [
       "2504"
      ]
     },
     "execution_count": 83,
     "metadata": {},
     "output_type": "execute_result"
    }
   ],
   "source": [
    "## empty list where I'll keep all the good reviews for TA\n",
    "good_ta = []\n",
    "\n",
    "## looping through data to collect reviews less than a 3 out of 5\n",
    "for i in ta_data:\n",
    "    r = i['Reviews']\n",
    "    for x in r:\n",
    "        x['Ratings']['Overall'] = float(x['Ratings']['Overall'])\n",
    "        if x['Ratings']['Overall'] > 3:\n",
    "            good_ta.append(x['Content'])\n",
    "\n",
    "## there are 2504 bad reviews on TripAdvisor\n",
    "len(good_ta)"
   ]
  },
  {
   "cell_type": "code",
   "execution_count": 84,
   "metadata": {},
   "outputs": [
    {
     "data": {
      "text/plain": [
       "\"Thank you, Thank you, to Event Coordinator Augustina Porter at the Hotel San Carlos. My daughter is getinng married next weekend and we will have a large party staying at the hotel. Augustina has been more then helpful!! From changing the bride's and family suites at the last minute, to corrdinating a fabulous mani/pedi party at a nearby salon for my daughter and her bridesmaids. I am more then satified with the excellent service so far and if her staff is half as attentive as she this promises to be a wonderful weekend!!!!!\""
      ]
     },
     "execution_count": 84,
     "metadata": {},
     "output_type": "execute_result"
    }
   ],
   "source": [
    "## taking a peek at the first good review in the list\n",
    "good_ta[0]"
   ]
  },
  {
   "cell_type": "markdown",
   "metadata": {},
   "source": [
    "### Word Counts and Readability, Part 2"
   ]
  },
  {
   "cell_type": "markdown",
   "metadata": {},
   "source": [
    "Now to re-do the clean up I did above."
   ]
  },
  {
   "cell_type": "code",
   "execution_count": 85,
   "metadata": {},
   "outputs": [],
   "source": [
    "## here I'm joining all the reviews into four giant corpuses\n",
    "good_yelp_corp = ' '.join(good_yelp)\n",
    "bad_yelp_corp = ' '.join(bad_yelp)\n",
    "good_ta_corp = ' '.join(good_ta)\n",
    "bad_ta_corp = ' '.join(bad_ta)\n",
    "\n",
    "## I found some chinese words/characters in the reviews, so here I'm just dropping those characters\n",
    "goodyelp_corp_asc = good_yelp_corp.encode(\"ascii\", errors=\"ignore\").decode()\n",
    "badyelp_corp_asc = bad_yelp_corp.encode(\"ascii\", errors=\"ignore\").decode()\n",
    "goodta_corp_asc = good_ta_corp.encode(\"ascii\", errors=\"ignore\").decode()\n",
    "badta_corp_asc = bad_ta_corp.encode(\"ascii\", errors=\"ignore\").decode()"
   ]
  },
  {
   "cell_type": "markdown",
   "metadata": {},
   "source": [
    "Now the corpuses are ready for the readability function.\n",
    "\n",
    "First the \"bad\" reviews:"
   ]
  },
  {
   "cell_type": "code",
   "execution_count": 86,
   "metadata": {},
   "outputs": [],
   "source": [
    "## getting an obeject for textatistic calculations -- first is bad reviews\n",
    "badyelp_read = Textatistic(badyelp_corp_asc)\n",
    "badta_read = Textatistic(badta_corp_asc)\n",
    "\n",
    "## return dictionary of all attribute values\n",
    "badyelp_values = badyelp_read.dict()\n",
    "badta_values = badta_read.dict()\n",
    "\n",
    "## putting them in a dataframe\n",
    "bad1 = pd.DataFrame(list(badyelp_values.items()), columns= ['metric', 'yelp_value'])\n",
    "bad2 = pd.DataFrame(list(badta_values.items()), columns= ['metric', 'ta_value'])"
   ]
  },
  {
   "cell_type": "code",
   "execution_count": 87,
   "metadata": {},
   "outputs": [
    {
     "data": {
      "text/html": [
       "<div>\n",
       "<style scoped>\n",
       "    .dataframe tbody tr th:only-of-type {\n",
       "        vertical-align: middle;\n",
       "    }\n",
       "\n",
       "    .dataframe tbody tr th {\n",
       "        vertical-align: top;\n",
       "    }\n",
       "\n",
       "    .dataframe thead th {\n",
       "        text-align: right;\n",
       "    }\n",
       "</style>\n",
       "<table border=\"1\" class=\"dataframe\">\n",
       "  <thead>\n",
       "    <tr style=\"text-align: right;\">\n",
       "      <th></th>\n",
       "      <th>metric</th>\n",
       "      <th>yelp_value</th>\n",
       "      <th>ta_value</th>\n",
       "      <th>yelp_perreview</th>\n",
       "      <th>ta_perreview</th>\n",
       "    </tr>\n",
       "  </thead>\n",
       "  <tbody>\n",
       "    <tr>\n",
       "      <td>0</td>\n",
       "      <td>char_count</td>\n",
       "      <td>935232.000000</td>\n",
       "      <td>546624.000000</td>\n",
       "      <td>776.770764</td>\n",
       "      <td>1664.113879</td>\n",
       "    </tr>\n",
       "    <tr>\n",
       "      <td>1</td>\n",
       "      <td>word_count</td>\n",
       "      <td>216256.000000</td>\n",
       "      <td>125524.000000</td>\n",
       "      <td>179.614618</td>\n",
       "      <td>384.797153</td>\n",
       "    </tr>\n",
       "    <tr>\n",
       "      <td>2</td>\n",
       "      <td>sent_count</td>\n",
       "      <td>17347.000000</td>\n",
       "      <td>9016.000000</td>\n",
       "      <td>14.407807</td>\n",
       "      <td>30.866548</td>\n",
       "    </tr>\n",
       "    <tr>\n",
       "      <td>3</td>\n",
       "      <td>sybl_count</td>\n",
       "      <td>268232.000000</td>\n",
       "      <td>156673.000000</td>\n",
       "      <td>222.784053</td>\n",
       "      <td>477.281139</td>\n",
       "    </tr>\n",
       "    <tr>\n",
       "      <td>4</td>\n",
       "      <td>notdalechall_count</td>\n",
       "      <td>30918.000000</td>\n",
       "      <td>18341.000000</td>\n",
       "      <td>25.679402</td>\n",
       "      <td>55.014235</td>\n",
       "    </tr>\n",
       "    <tr>\n",
       "      <td>5</td>\n",
       "      <td>polysyblword_count</td>\n",
       "      <td>9375.000000</td>\n",
       "      <td>5649.000000</td>\n",
       "      <td>7.786545</td>\n",
       "      <td>16.681495</td>\n",
       "    </tr>\n",
       "    <tr>\n",
       "      <td>6</td>\n",
       "      <td>flesch_score</td>\n",
       "      <td>89.248356</td>\n",
       "      <td>87.110166</td>\n",
       "      <td>NaN</td>\n",
       "      <td>NaN</td>\n",
       "    </tr>\n",
       "    <tr>\n",
       "      <td>7</td>\n",
       "      <td>fleschkincaid_score</td>\n",
       "      <td>3.907995</td>\n",
       "      <td>4.567911</td>\n",
       "      <td>NaN</td>\n",
       "      <td>NaN</td>\n",
       "    </tr>\n",
       "    <tr>\n",
       "      <td>8</td>\n",
       "      <td>gunningfog_score</td>\n",
       "      <td>6.720647</td>\n",
       "      <td>7.369078</td>\n",
       "      <td>NaN</td>\n",
       "      <td>NaN</td>\n",
       "    </tr>\n",
       "    <tr>\n",
       "      <td>9</td>\n",
       "      <td>smog_score</td>\n",
       "      <td>7.328801</td>\n",
       "      <td>7.651029</td>\n",
       "      <td>NaN</td>\n",
       "      <td>NaN</td>\n",
       "    </tr>\n",
       "    <tr>\n",
       "      <td>10</td>\n",
       "      <td>dalechall_score</td>\n",
       "      <td>6.512325</td>\n",
       "      <td>6.634213</td>\n",
       "      <td>NaN</td>\n",
       "      <td>NaN</td>\n",
       "    </tr>\n",
       "  </tbody>\n",
       "</table>\n",
       "</div>"
      ],
      "text/plain": [
       "                 metric     yelp_value       ta_value  yelp_perreview  \\\n",
       "0            char_count  935232.000000  546624.000000      776.770764   \n",
       "1            word_count  216256.000000  125524.000000      179.614618   \n",
       "2            sent_count   17347.000000    9016.000000       14.407807   \n",
       "3            sybl_count  268232.000000  156673.000000      222.784053   \n",
       "4    notdalechall_count   30918.000000   18341.000000       25.679402   \n",
       "5    polysyblword_count    9375.000000    5649.000000        7.786545   \n",
       "6          flesch_score      89.248356      87.110166             NaN   \n",
       "7   fleschkincaid_score       3.907995       4.567911             NaN   \n",
       "8      gunningfog_score       6.720647       7.369078             NaN   \n",
       "9            smog_score       7.328801       7.651029             NaN   \n",
       "10      dalechall_score       6.512325       6.634213             NaN   \n",
       "\n",
       "    ta_perreview  \n",
       "0    1664.113879  \n",
       "1     384.797153  \n",
       "2      30.866548  \n",
       "3     477.281139  \n",
       "4      55.014235  \n",
       "5      16.681495  \n",
       "6            NaN  \n",
       "7            NaN  \n",
       "8            NaN  \n",
       "9            NaN  \n",
       "10           NaN  "
      ]
     },
     "execution_count": 87,
     "metadata": {},
     "output_type": "execute_result"
    }
   ],
   "source": [
    "## merging the dataframes together and making a new column for counts per review\n",
    "bad_df = pd.merge(left=bad1,right=bad2, left_on='metric', right_on='metric')\n",
    "bad_df['yelp_perreview'] = bad_df.iloc[0:6, 1]/len(bad_yelp)\n",
    "bad_df['ta_perreview'] = bad_df.iloc[0:6, 1]/len(bad_ta)\n",
    "\n",
    "bad_df"
   ]
  },
  {
   "cell_type": "markdown",
   "metadata": {},
   "source": [
    "Wow, it looks like TripAdvisor users are actually MUCH more wordy than Yelpers when they're having a bad time, leaving 384-word reviews on average! They also write 30 sentences on average, which is double what unhappy Yelpers write.\n",
    "\n",
    "Readability scores are also all very similiar between platforms. The one I'm keeping my eye on is the Dale Chall Score."
   ]
  },
  {
   "cell_type": "markdown",
   "metadata": {},
   "source": [
    "Now the \"good\" reviews:"
   ]
  },
  {
   "cell_type": "code",
   "execution_count": 88,
   "metadata": {},
   "outputs": [],
   "source": [
    "## getting an obeject for textatistic calculations -- good reviews\n",
    "goodyelp_read = Textatistic(goodyelp_corp_asc)\n",
    "goodta_read = Textatistic(goodta_corp_asc)\n",
    "\n",
    "## return dictionary of all attribute values\n",
    "goodyelp_values = goodyelp_read.dict()\n",
    "goodta_values = goodta_read.dict()\n",
    "\n",
    "## putting them in a dataframe\n",
    "good1 = pd.DataFrame(list(goodyelp_values.items()), columns= ['metric', 'yelp_value'])\n",
    "good2 = pd.DataFrame(list(goodta_values.items()), columns= ['metric', 'ta_value'])"
   ]
  },
  {
   "cell_type": "code",
   "execution_count": 89,
   "metadata": {},
   "outputs": [
    {
     "data": {
      "text/html": [
       "<div>\n",
       "<style scoped>\n",
       "    .dataframe tbody tr th:only-of-type {\n",
       "        vertical-align: middle;\n",
       "    }\n",
       "\n",
       "    .dataframe tbody tr th {\n",
       "        vertical-align: top;\n",
       "    }\n",
       "\n",
       "    .dataframe thead th {\n",
       "        text-align: right;\n",
       "    }\n",
       "</style>\n",
       "<table border=\"1\" class=\"dataframe\">\n",
       "  <thead>\n",
       "    <tr style=\"text-align: right;\">\n",
       "      <th></th>\n",
       "      <th>metric</th>\n",
       "      <th>yelp_value</th>\n",
       "      <th>ta_value</th>\n",
       "      <th>yelp_perreview</th>\n",
       "      <th>ta_perreview</th>\n",
       "    </tr>\n",
       "  </thead>\n",
       "  <tbody>\n",
       "    <tr>\n",
       "      <td>0</td>\n",
       "      <td>char_count</td>\n",
       "      <td>967071.000000</td>\n",
       "      <td>1.788728e+06</td>\n",
       "      <td>550.097270</td>\n",
       "      <td>386.210463</td>\n",
       "    </tr>\n",
       "    <tr>\n",
       "      <td>1</td>\n",
       "      <td>word_count</td>\n",
       "      <td>217922.000000</td>\n",
       "      <td>4.003300e+05</td>\n",
       "      <td>123.960182</td>\n",
       "      <td>87.029553</td>\n",
       "    </tr>\n",
       "    <tr>\n",
       "      <td>2</td>\n",
       "      <td>sent_count</td>\n",
       "      <td>17858.000000</td>\n",
       "      <td>2.980400e+04</td>\n",
       "      <td>10.158134</td>\n",
       "      <td>7.131789</td>\n",
       "    </tr>\n",
       "    <tr>\n",
       "      <td>3</td>\n",
       "      <td>sybl_count</td>\n",
       "      <td>273774.000000</td>\n",
       "      <td>5.083870e+05</td>\n",
       "      <td>155.730375</td>\n",
       "      <td>109.334665</td>\n",
       "    </tr>\n",
       "    <tr>\n",
       "      <td>4</td>\n",
       "      <td>notdalechall_count</td>\n",
       "      <td>36005.000000</td>\n",
       "      <td>6.762000e+04</td>\n",
       "      <td>20.480660</td>\n",
       "      <td>14.378994</td>\n",
       "    </tr>\n",
       "    <tr>\n",
       "      <td>5</td>\n",
       "      <td>polysyblword_count</td>\n",
       "      <td>10643.000000</td>\n",
       "      <td>2.137800e+04</td>\n",
       "      <td>6.054039</td>\n",
       "      <td>4.250399</td>\n",
       "    </tr>\n",
       "    <tr>\n",
       "      <td>6</td>\n",
       "      <td>flesch_score</td>\n",
       "      <td>88.166475</td>\n",
       "      <td>8.576621e+01</td>\n",
       "      <td>NaN</td>\n",
       "      <td>NaN</td>\n",
       "    </tr>\n",
       "    <tr>\n",
       "      <td>7</td>\n",
       "      <td>fleschkincaid_score</td>\n",
       "      <td>3.993452</td>\n",
       "      <td>4.633569e+00</td>\n",
       "      <td>NaN</td>\n",
       "      <td>NaN</td>\n",
       "    </tr>\n",
       "    <tr>\n",
       "      <td>8</td>\n",
       "      <td>gunningfog_score</td>\n",
       "      <td>6.834762</td>\n",
       "      <td>7.508874e+00</td>\n",
       "      <td>NaN</td>\n",
       "      <td>NaN</td>\n",
       "    </tr>\n",
       "    <tr>\n",
       "      <td>9</td>\n",
       "      <td>smog_score</td>\n",
       "      <td>7.539323</td>\n",
       "      <td>7.967382e+00</td>\n",
       "      <td>NaN</td>\n",
       "      <td>NaN</td>\n",
       "    </tr>\n",
       "    <tr>\n",
       "      <td>10</td>\n",
       "      <td>dalechall_score</td>\n",
       "      <td>6.850590</td>\n",
       "      <td>6.969831e+00</td>\n",
       "      <td>NaN</td>\n",
       "      <td>NaN</td>\n",
       "    </tr>\n",
       "  </tbody>\n",
       "</table>\n",
       "</div>"
      ],
      "text/plain": [
       "                 metric     yelp_value      ta_value  yelp_perreview  \\\n",
       "0            char_count  967071.000000  1.788728e+06      550.097270   \n",
       "1            word_count  217922.000000  4.003300e+05      123.960182   \n",
       "2            sent_count   17858.000000  2.980400e+04       10.158134   \n",
       "3            sybl_count  273774.000000  5.083870e+05      155.730375   \n",
       "4    notdalechall_count   36005.000000  6.762000e+04       20.480660   \n",
       "5    polysyblword_count   10643.000000  2.137800e+04        6.054039   \n",
       "6          flesch_score      88.166475  8.576621e+01             NaN   \n",
       "7   fleschkincaid_score       3.993452  4.633569e+00             NaN   \n",
       "8      gunningfog_score       6.834762  7.508874e+00             NaN   \n",
       "9            smog_score       7.539323  7.967382e+00             NaN   \n",
       "10      dalechall_score       6.850590  6.969831e+00             NaN   \n",
       "\n",
       "    ta_perreview  \n",
       "0     386.210463  \n",
       "1      87.029553  \n",
       "2       7.131789  \n",
       "3     109.334665  \n",
       "4      14.378994  \n",
       "5       4.250399  \n",
       "6            NaN  \n",
       "7            NaN  \n",
       "8            NaN  \n",
       "9            NaN  \n",
       "10           NaN  "
      ]
     },
     "execution_count": 89,
     "metadata": {},
     "output_type": "execute_result"
    }
   ],
   "source": [
    "## merging the dataframes together and making a new column for counts per review\n",
    "good_df = pd.merge(left=good1,right=good2, left_on='metric', right_on='metric')\n",
    "good_df['yelp_perreview'] = good_df.iloc[0:6, 1]/len(good_yelp)\n",
    "good_df['ta_perreview'] = good_df.iloc[0:6, 1]/len(good_ta)\n",
    "\n",
    "good_df"
   ]
  },
  {
   "cell_type": "markdown",
   "metadata": {},
   "source": [
    "Looks like on average, TripAdvisor reviewers keep it short and sweet when leaving a positive review with only 87 words! Yelpers are also slightly less wordy when leaving positive reviews, but they actually write more than happy TripAdvisor users!\n",
    "\n",
    "Readability measures are again very similar."
   ]
  },
  {
   "cell_type": "markdown",
   "metadata": {},
   "source": [
    "### Td-idf, Part 2"
   ]
  },
  {
   "cell_type": "markdown",
   "metadata": {},
   "source": [
    "Same as above, but this time we have 4 corpuses."
   ]
  },
  {
   "cell_type": "code",
   "execution_count": 90,
   "metadata": {},
   "outputs": [],
   "source": [
    "## putting the corpuses into a dictionary where the keys are the platform\n",
    "all_dict2 = {'good_yelp': goodyelp_corp_asc, 'good_ta': goodta_corp_asc, 'bad_yelp': badyelp_corp_asc, 'bad_ta': badta_corp_asc}\n",
    "\n",
    "reviews2 = list(all_dict2.values())\n",
    "## so reviews is a list of 2, consisting of the yelp reviews and the ta reviews"
   ]
  },
  {
   "cell_type": "code",
   "execution_count": 91,
   "metadata": {},
   "outputs": [
    {
     "data": {
      "text/plain": [
       "4"
      ]
     },
     "execution_count": 91,
     "metadata": {},
     "output_type": "execute_result"
    }
   ],
   "source": [
    "## using same stopwords as above\n",
    "clean_reviews2 = []\n",
    "\n",
    "for x in reviews2:\n",
    "    x = word_tokenize(x)\n",
    "    x = [w.lower() for w in x]\n",
    "    x = [w for w in x if w not in stop_words]\n",
    "    x = [w for w in x if w.isdigit()==False]\n",
    "    clean_reviews2.append(x)\n",
    "\n",
    "## clean_reviews2 is the list of yelp and ta reviews containing the lists of cleaned tokenized words\n",
    "len(clean_reviews2)"
   ]
  },
  {
   "cell_type": "code",
   "execution_count": 92,
   "metadata": {},
   "outputs": [],
   "source": [
    "## now turning the list of tokenized words back into two large strings so I can plug them into the vectorizor\n",
    "reviews_str2 = [\" \".join(x) for x in clean_reviews2]\n",
    "\n",
    "## this is for indexing\n",
    "platform2 = ['Yelp (good)', 'TripAdvisor (good)', 'Yelp (bad)', 'TripAdvisor (bad)']"
   ]
  },
  {
   "cell_type": "code",
   "execution_count": 93,
   "metadata": {},
   "outputs": [],
   "source": [
    "## I'm using the same model that I instantiated above, so I can just plug in the second round of corpuses\n",
    "vectors = vectorizer.fit_transform(reviews_str2)\n",
    "\n",
    "## getting the feature names\n",
    "feature_names = vectorizer.get_feature_names()\n",
    "dense = vectors.todense()\n",
    "denselist = dense.tolist()\n",
    "\n",
    "## creating a dataframe with the feature names as columns and the platform as the row\n",
    "df_2 = pd.DataFrame(denselist, columns=feature_names, index=platform2)\n",
    "\n",
    "## finally, transposing\n",
    "df_t_2 = df_2.T"
   ]
  },
  {
   "cell_type": "markdown",
   "metadata": {},
   "source": [
    "Looking at \"bad\" reviews first!"
   ]
  },
  {
   "cell_type": "code",
   "execution_count": 94,
   "metadata": {},
   "outputs": [
    {
     "data": {
      "text/plain": [
       "we         0.428607\n",
       "my         0.327682\n",
       "room       0.308962\n",
       "!          0.272173\n",
       "hotel      0.220896\n",
       "our        0.173527\n",
       "me         0.168806\n",
       "would      0.149597\n",
       "stay       0.122575\n",
       "one        0.117204\n",
       "get        0.107925\n",
       "front      0.093600\n",
       "desk       0.093437\n",
       "us         0.092461\n",
       "service    0.089205\n",
       "could      0.089042\n",
       "night      0.088391\n",
       "back       0.088228\n",
       "! !        0.084484\n",
       "?          0.083182\n",
       "Name: Yelp (bad), dtype: float64"
      ]
     },
     "execution_count": 94,
     "metadata": {},
     "output_type": "execute_result"
    }
   ],
   "source": [
    "df_t_2.nlargest(20,'Yelp (bad)')['Yelp (bad)']"
   ]
  },
  {
   "cell_type": "code",
   "execution_count": 95,
   "metadata": {},
   "outputs": [
    {
     "data": {
      "text/plain": [
       "we         0.501131\n",
       "room       0.350063\n",
       "my         0.237393\n",
       "hotel      0.232628\n",
       "our        0.203760\n",
       "!          0.191708\n",
       "would      0.153590\n",
       "stay       0.133411\n",
       "one        0.119397\n",
       "me         0.110428\n",
       "night      0.102020\n",
       "$          0.100338\n",
       "get        0.100338\n",
       "us         0.095854\n",
       "desk       0.091089\n",
       "could      0.089968\n",
       "pool       0.087165\n",
       "service    0.084643\n",
       "rooms      0.081560\n",
       "front      0.075674\n",
       "Name: TripAdvisor (bad), dtype: float64"
      ]
     },
     "execution_count": 95,
     "metadata": {},
     "output_type": "execute_result"
    }
   ],
   "source": [
    "df_t_2.nlargest(20,'TripAdvisor (bad)')['TripAdvisor (bad)']"
   ]
  },
  {
   "cell_type": "markdown",
   "metadata": {},
   "source": [
    "Looks like unhappy TripAdvisor users still talk a lot about the pool, but Yelpers use a lot of punctuation when they're upset. Bad TripAdvisor reviews also seem to talk about specific amounts of money more frequently, or possibly they use the dollar sign sign as shorthand.\n",
    "\n",
    "Now for positive reviews:"
   ]
  },
  {
   "cell_type": "code",
   "execution_count": 96,
   "metadata": {},
   "outputs": [
    {
     "data": {
      "text/plain": [
       "we         0.380827\n",
       "!          0.337205\n",
       "room       0.261259\n",
       "hotel      0.235369\n",
       "my         0.223600\n",
       "great      0.197239\n",
       "nice       0.166955\n",
       "stay       0.156442\n",
       "our        0.153147\n",
       "pool       0.142633\n",
       "staff      0.139024\n",
       "clean      0.115644\n",
       "one        0.114232\n",
       "service    0.107014\n",
       "rooms      0.102778\n",
       "place      0.102307\n",
       "would      0.098698\n",
       "good       0.094618\n",
       "stayed     0.088185\n",
       "me         0.088028\n",
       "Name: Yelp (good), dtype: float64"
      ]
     },
     "execution_count": 96,
     "metadata": {},
     "output_type": "execute_result"
    }
   ],
   "source": [
    "df_t_2.nlargest(20,'Yelp (good)')['Yelp (good)']"
   ]
  },
  {
   "cell_type": "code",
   "execution_count": 97,
   "metadata": {},
   "outputs": [
    {
     "data": {
      "text/plain": [
       "we         0.530444\n",
       "room       0.239397\n",
       "hotel      0.233494\n",
       "!          0.222098\n",
       "our        0.203733\n",
       "my         0.175202\n",
       "great      0.167578\n",
       "pool       0.149131\n",
       "stay       0.135685\n",
       "staff      0.133390\n",
       "nice       0.133062\n",
       "resort     0.120026\n",
       "one        0.116009\n",
       "would      0.109614\n",
       "good       0.106745\n",
       "area       0.102317\n",
       "service    0.097644\n",
       "stayed     0.093709\n",
       "rooms      0.091577\n",
       "clean      0.083789\n",
       "Name: TripAdvisor (good), dtype: float64"
      ]
     },
     "execution_count": 97,
     "metadata": {},
     "output_type": "execute_result"
    }
   ],
   "source": [
    "df_t_2.nlargest(20,'TripAdvisor (good)')['TripAdvisor (good)']"
   ]
  },
  {
   "cell_type": "markdown",
   "metadata": {},
   "source": [
    "Happy Yelpers seem to mention \"clean\" more often than TripAdvisor users, but otherwise they seem pretty similiar across platforms.\n",
    "\n",
    "Next I'll look at some common terms that might come up in a hotel review to see how they differ across platforms and kinds of reviews."
   ]
  },
  {
   "cell_type": "code",
   "execution_count": 98,
   "metadata": {},
   "outputs": [
    {
     "data": {
      "text/plain": [
       "TripAdvisor (good)    0.102317\n",
       "Yelp (good)           0.076573\n",
       "TripAdvisor (bad)     0.050449\n",
       "Yelp (bad)            0.040696\n",
       "Name: area, dtype: float64"
      ]
     },
     "execution_count": 98,
     "metadata": {},
     "output_type": "execute_result"
    }
   ],
   "source": [
    "df_2.sort_values('area', ascending=False)['area']"
   ]
  },
  {
   "cell_type": "code",
   "execution_count": 99,
   "metadata": {},
   "outputs": [
    {
     "data": {
      "text/plain": [
       "TripAdvisor (good)    0.041075\n",
       "Yelp (good)           0.039385\n",
       "TripAdvisor (bad)     0.021861\n",
       "Yelp (bad)            0.016441\n",
       "Name: location, dtype: float64"
      ]
     },
     "execution_count": 99,
     "metadata": {},
     "output_type": "execute_result"
    }
   ],
   "source": [
    "df_2.sort_values('location', ascending=False)['location']"
   ]
  },
  {
   "cell_type": "code",
   "execution_count": 100,
   "metadata": {},
   "outputs": [
    {
     "data": {
      "text/plain": [
       "Yelp (bad)            0.029789\n",
       "TripAdvisor (bad)     0.024944\n",
       "Yelp (good)           0.002668\n",
       "TripAdvisor (good)    0.000984\n",
       "Name: dirty, dtype: float64"
      ]
     },
     "execution_count": 100,
     "metadata": {},
     "output_type": "execute_result"
    }
   ],
   "source": [
    "df_2.sort_values('dirty', ascending=False)['dirty']"
   ]
  },
  {
   "cell_type": "code",
   "execution_count": 101,
   "metadata": {},
   "outputs": [
    {
     "data": {
      "text/plain": [
       "TripAdvisor (good)    0.010494\n",
       "TripAdvisor (bad)     0.007848\n",
       "Yelp (bad)            0.006674\n",
       "Yelp (good)           0.006276\n",
       "Name: expensive, dtype: float64"
      ]
     },
     "execution_count": 101,
     "metadata": {},
     "output_type": "execute_result"
    }
   ],
   "source": [
    "df_2.sort_values('expensive', ascending=False)['expensive']"
   ]
  },
  {
   "cell_type": "code",
   "execution_count": 102,
   "metadata": {},
   "outputs": [
    {
     "data": {
      "text/plain": [
       "TripAdvisor (bad)     0.000686\n",
       "Yelp (bad)            0.000199\n",
       "TripAdvisor (good)    0.000100\n",
       "Yelp (good)           0.000000\n",
       "Name: unfair, dtype: float64"
      ]
     },
     "execution_count": 102,
     "metadata": {},
     "output_type": "execute_result"
    }
   ],
   "source": [
    "df_2.sort_values('unfair', ascending=False)['unfair']"
   ]
  },
  {
   "cell_type": "markdown",
   "metadata": {},
   "source": [
    "Hmm. Happy TripAdvisor users will mention that a place is expensive more than Yelpers. However this could be a factor of the particular hotels that got grouped into each category."
   ]
  },
  {
   "cell_type": "code",
   "execution_count": 103,
   "metadata": {},
   "outputs": [
    {
     "data": {
      "text/plain": [
       "Yelp (bad)            0.001139\n",
       "Yelp (good)           0.000314\n",
       "TripAdvisor (bad)     0.000280\n",
       "TripAdvisor (good)    0.000246\n",
       "Name: ugly, dtype: float64"
      ]
     },
     "execution_count": 103,
     "metadata": {},
     "output_type": "execute_result"
    }
   ],
   "source": [
    "df_2.sort_values('ugly', ascending=False)['ugly']"
   ]
  },
  {
   "cell_type": "markdown",
   "metadata": {},
   "source": [
    "Ouch. Yelpers (both happy and unhappy) use the term ugly more frequently than TripAdvisor users, even if it's a good review."
   ]
  },
  {
   "cell_type": "code",
   "execution_count": 104,
   "metadata": {},
   "outputs": [
    {
     "data": {
      "text/plain": [
       "Yelp (bad)            0.004673\n",
       "Yelp (good)           0.000474\n",
       "TripAdvisor (good)    0.000000\n",
       "TripAdvisor (bad)     0.000000\n",
       "Name: shit, dtype: float64"
      ]
     },
     "execution_count": 104,
     "metadata": {},
     "output_type": "execute_result"
    }
   ],
   "source": [
    "df_2.sort_values('shit', ascending=False)['shit']"
   ]
  },
  {
   "cell_type": "markdown",
   "metadata": {},
   "source": [
    "Yelpers are also not afriad to curse, but this may be due to TripAdvisor's profanity filter?"
   ]
  },
  {
   "cell_type": "code",
   "execution_count": 105,
   "metadata": {},
   "outputs": [
    {
     "data": {
      "text/plain": [
       "Yelp (bad)            0.008953\n",
       "TripAdvisor (bad)     0.004765\n",
       "Yelp (good)           0.000785\n",
       "TripAdvisor (good)    0.000082\n",
       "Name: disgusting, dtype: float64"
      ]
     },
     "execution_count": 105,
     "metadata": {},
     "output_type": "execute_result"
    }
   ],
   "source": [
    "df_2.sort_values('disgusting', ascending=False)['disgusting']"
   ]
  },
  {
   "cell_type": "markdown",
   "metadata": {},
   "source": [
    "The word \"disgusting\" is not entirely uncommon across platforms for bad reviews, although Yelpers use is more frequently."
   ]
  },
  {
   "cell_type": "code",
   "execution_count": 106,
   "metadata": {},
   "outputs": [
    {
     "data": {
      "text/plain": [
       "Yelp (bad)            0.004721\n",
       "TripAdvisor (bad)     0.001682\n",
       "Yelp (good)           0.000628\n",
       "TripAdvisor (good)    0.000164\n",
       "Name: nasty, dtype: float64"
      ]
     },
     "execution_count": 106,
     "metadata": {},
     "output_type": "execute_result"
    }
   ],
   "source": [
    "df_2.sort_values('nasty', ascending=False)['nasty']"
   ]
  },
  {
   "cell_type": "code",
   "execution_count": 107,
   "metadata": {},
   "outputs": [
    {
     "data": {
      "text/plain": [
       "Yelp (good)           0.002303\n",
       "TripAdvisor (good)    0.001304\n",
       "Yelp (bad)            0.000398\n",
       "TripAdvisor (bad)     0.000000\n",
       "Name: trendy, dtype: float64"
      ]
     },
     "execution_count": 107,
     "metadata": {},
     "output_type": "execute_result"
    }
   ],
   "source": [
    "df_2.sort_values('trendy', ascending=False)['trendy']"
   ]
  },
  {
   "cell_type": "code",
   "execution_count": 108,
   "metadata": {},
   "outputs": [
    {
     "data": {
      "text/plain": [
       "TripAdvisor (bad)     0.008408\n",
       "Yelp (bad)            0.008302\n",
       "Yelp (good)           0.007846\n",
       "TripAdvisor (good)    0.004099\n",
       "Name: party, dtype: float64"
      ]
     },
     "execution_count": 108,
     "metadata": {},
     "output_type": "execute_result"
    }
   ],
   "source": [
    "df_2.sort_values('party', ascending=False)['party']"
   ]
  },
  {
   "cell_type": "markdown",
   "metadata": {},
   "source": [
    "This is a little interesting -- party seems to appear slightly more frequently in negative reviews than positive reviews."
   ]
  },
  {
   "cell_type": "markdown",
   "metadata": {},
   "source": [
    "## Final Project -- Addendum: Word of Speech Tagging"
   ]
  },
  {
   "cell_type": "markdown",
   "metadata": {},
   "source": [
    "Originally, I had wanted to use POS tagging using spacy to see what kinds of adjectives users like to use to describe the same hotel-related verbs across platforms.\n",
    "\n",
    "Ultimately I wasn't thrilled with the results, but I decided to leave in my work here for feedback/future experimental purposes!"
   ]
  },
  {
   "cell_type": "code",
   "execution_count": 109,
   "metadata": {},
   "outputs": [],
   "source": [
    "nlp = spacy.load(\"en_core_web_sm\")\n",
    "## I have to set the max length here to the biggest corpus because spacy limits you -- my computer can handle it!\n",
    "nlp.max_length = 2188325\n",
    "\n",
    "## creating a tokenized and tagged document for good reviews on Yelp/TA\n",
    "goody_nlp = nlp(goodyelp_corp_asc)\n",
    "goodt_nlp = nlp(goodta_corp_asc)\n",
    "\n",
    "## creating a tokenized and tagged document for bad reviews on Yelp/TA\n",
    "bady_nlp = nlp(badyelp_corp_asc)\n",
    "badt_nlp = nlp(badta_corp_asc)"
   ]
  },
  {
   "cell_type": "markdown",
   "metadata": {},
   "source": [
    "### Linking nounds and adjectives"
   ]
  },
  {
   "cell_type": "markdown",
   "metadata": {},
   "source": [
    "First I' thought I would see what the most common nouns are for bad yelp reviews using a simple word count. Then, I wanted to see what adjectives are commonly found \"near\" it.\n",
    "\n",
    "Note: There is likely a better way to do this using the dependencies feature, but with the time I have I'll just be looking at adjectives that are right next to a noun."
   ]
  },
  {
   "cell_type": "markdown",
   "metadata": {},
   "source": [
    "As a test, I'll take a single review (below) as an example and loop through it to see what it returns."
   ]
  },
  {
   "cell_type": "code",
   "execution_count": 125,
   "metadata": {},
   "outputs": [
    {
     "data": {
      "text/plain": [
       "\"One of the crappier Marriotts I've ever stayed at. The staff is nice and professional enough. But the fact that it's right by the frontage road along I-17, you tend to attract a seedier crowd. Also, with three floors worth of rooms here, guess how many washer/dryer they have for everyone? ONE crappy washer and ONE crappy dryer! Don't even think about washing your clothes on a Friday night. For a two hour period, I went to see if the washer was finally available, each time I was met with yet another load of dirty clothes inside. If they can't afford to get more machines, consider installing one of those number ticket dispensers! Just a thought. Maybe I would have a better shot of washing my clothes. I also considered sitting on top of the washer until the load was done, but that would be kind of creepy on my part. I will be packing all my dirty clothes with me and never come back here again.\""
      ]
     },
     "execution_count": 125,
     "metadata": {},
     "output_type": "execute_result"
    }
   ],
   "source": [
    "bad_yelp[0]"
   ]
  },
  {
   "cell_type": "code",
   "execution_count": 177,
   "metadata": {},
   "outputs": [
    {
     "data": {
      "text/plain": [
       "[('Marriotts', 'crappier'),\n",
       " ('staff', 'nice'),\n",
       " ('fact', 'right'),\n",
       " ('frontage', 'seedier'),\n",
       " ('road', 'seedier'),\n",
       " ('I-17', 'seedier'),\n",
       " ('crowd', 'seedier'),\n",
       " ('floors', 'worth'),\n",
       " ('rooms', 'many'),\n",
       " ('washer', 'many'),\n",
       " ('dryer', 'crappy'),\n",
       " ('everyone', 'crappy'),\n",
       " ('washer', 'crappy'),\n",
       " ('dryer', 'crappy'),\n",
       " ('clothes', 'available'),\n",
       " ('Friday', 'available'),\n",
       " ('night', 'available'),\n",
       " ('hour', 'available'),\n",
       " ('period', 'available'),\n",
       " ('washer', 'available'),\n",
       " ('time', 'dirty'),\n",
       " ('load', 'dirty'),\n",
       " ('clothes', 'dirty'),\n",
       " ('machines', 'more'),\n",
       " ('number', 'better'),\n",
       " ('ticket', 'better'),\n",
       " ('dispensers', 'better'),\n",
       " ('thought', 'better'),\n",
       " ('shot', 'better'),\n",
       " ('clothes', 'creepy'),\n",
       " ('top', 'creepy'),\n",
       " ('washer', 'creepy'),\n",
       " ('load', 'creepy'),\n",
       " ('part', 'dirty'),\n",
       " ('clothes', 'dirty')]"
      ]
     },
     "execution_count": 177,
     "metadata": {},
     "output_type": "execute_result"
    }
   ],
   "source": [
    "doc = nlp(bad_yelp[0])\n",
    "\n",
    "## empty test list that wll hold the noun/adj pairs\n",
    "test = []\n",
    "\n",
    "## looping through the tagged object and collecting noun/adj pairs\n",
    "## this loop works OK, it looks one word behind the noun then to the end of the document for the nearest adjective\n",
    "\n",
    "for i,token in enumerate(doc):\n",
    "    if token.pos_ not in ('NOUN','PROPN'):\n",
    "        continue\n",
    "    for j in range(i-1, len(doc)):\n",
    "        if doc[j].pos_ == 'ADJ':\n",
    "            test.append((str(token), str(doc[j])))\n",
    "            break\n",
    "\n",
    "test"
   ]
  },
  {
   "cell_type": "markdown",
   "metadata": {},
   "source": [
    "Looks like this model has high recall, returning all of the nouns and multiple repeats of the same adjective closest to the noun. The model isn't as precise however, since it will sometimes return a false positive (ie, a word that isn't a noun) or will attribute an adjective to a noun that isn't really related to it (for example, \"fact\" and \"right\")."
   ]
  },
  {
   "cell_type": "markdown",
   "metadata": {},
   "source": [
    "I wasn't too unhappy with the outcome howevers, since you can kind of tell by the list that this is likely a negative review!"
   ]
  },
  {
   "cell_type": "code",
   "execution_count": 110,
   "metadata": {},
   "outputs": [],
   "source": [
    "## empty list for the noun/adj pairs\n",
    "bady_pairs = []\n",
    "\n",
    "## looping through the tagged object and collecting noun/adj pairs\n",
    "for i,token in enumerate(bady_nlp):\n",
    "    if token.pos_ not in ('NOUN','PROPN'):\n",
    "        continue\n",
    "    for j in range(i-1, len(bady_nlp)):\n",
    "        if bady_nlp[j].pos_ == 'ADJ':\n",
    "            bady_pairs.append((str(token), str(bady_nlp[j])))\n",
    "            break"
   ]
  },
  {
   "cell_type": "code",
   "execution_count": 133,
   "metadata": {},
   "outputs": [
    {
     "data": {
      "text/plain": [
       "[('room', 1825),\n",
       " ('hotel', 1266),\n",
       " ('desk', 558),\n",
       " ('night', 522),\n",
       " ('service', 520),\n",
       " ('place', 492),\n",
       " ('pool', 490),\n",
       " ('time', 469),\n",
       " ('staff', 449),\n",
       " ('rooms', 440),\n",
       " ('day', 333),\n",
       " ('water', 316),\n",
       " ('people', 301),\n",
       " ('resort', 300),\n",
       " ('Hilton', 299),\n",
       " ('bed', 286),\n",
       " ('stay', 255),\n",
       " ('area', 248),\n",
       " ('door', 234),\n",
       " ('experience', 233)]"
      ]
     },
     "execution_count": 133,
     "metadata": {},
     "output_type": "execute_result"
    }
   ],
   "source": [
    "## empty list for most common nouns\n",
    "bady_n = []\n",
    "\n",
    "## appending just the adjectives\n",
    "for i in bady_pairs:\n",
    "    bady_n.append(i[0])\n",
    "\n",
    "## using counter to get the count of all occurances\n",
    "bady_most = Counter(bady_n).most_common(20)\n",
    "bady_most"
   ]
  },
  {
   "cell_type": "markdown",
   "metadata": {},
   "source": [
    "There are a lot of the same unintersting nouns here that the tf-idf above found."
   ]
  },
  {
   "cell_type": "markdown",
   "metadata": {},
   "source": [
    "First I'll see what adjectives are nearest to the nound \"pool\""
   ]
  },
  {
   "cell_type": "code",
   "execution_count": 153,
   "metadata": {},
   "outputs": [
    {
     "data": {
      "text/plain": [
       "[('nice', 28),\n",
       " ('main', 26),\n",
       " ('other', 12),\n",
       " ('dirty', 11),\n",
       " ('open', 11),\n",
       " ('old', 10),\n",
       " ('great', 10),\n",
       " ('small', 9),\n",
       " ('hot', 8),\n",
       " ('large', 7),\n",
       " ('front', 7),\n",
       " ('entire', 7),\n",
       " ('ready', 6),\n",
       " ('strange', 6),\n",
       " ('full', 6),\n",
       " ('big', 6),\n",
       " ('lazy', 6),\n",
       " ('last', 5),\n",
       " ('rude', 5),\n",
       " ('Horrible', 5)]"
      ]
     },
     "execution_count": 153,
     "metadata": {},
     "output_type": "execute_result"
    }
   ],
   "source": [
    "bady_adj = []\n",
    "\n",
    "## looping through the list of noun-adj pairs and pulling out adjs nearby to the word 'pool'\n",
    "for i in bady_pairs:\n",
    "    if i[0] == 'pool':\n",
    "        bady_adj.append(i[1])\n",
    "\n",
    "## using counter to get the count of all occurances\n",
    "bady_p = Counter(bady_adj).most_common(20)\n",
    "bady_p"
   ]
  },
  {
   "cell_type": "markdown",
   "metadata": {},
   "source": [
    "Looks like the adjective \"nice\" is most commonly the closest adjective to any mention of the noun \"pool\", even for negative reviews. That said, the word dirty was the closest adjective 11 times that \"pool\" was mentioned in a review."
   ]
  },
  {
   "cell_type": "code",
   "execution_count": 152,
   "metadata": {},
   "outputs": [
    {
     "data": {
      "text/plain": [
       "[('dirty', 8),\n",
       " ('clean', 8),\n",
       " ('last', 2),\n",
       " ('closer', 2),\n",
       " ('filthy', 2),\n",
       " ('2nd', 2),\n",
       " ('different', 2),\n",
       " ('little', 2),\n",
       " ('crispy', 2),\n",
       " ('unacceptable', 1),\n",
       " ('horrified', 1),\n",
       " ('past', 1),\n",
       " ('hot', 1),\n",
       " ('HOT', 1),\n",
       " ('comfy', 1),\n",
       " ('loud', 1),\n",
       " ('desk-', 1),\n",
       " ('same', 1),\n",
       " ('sticky', 1),\n",
       " ('loose', 1)]"
      ]
     },
     "execution_count": 152,
     "metadata": {},
     "output_type": "execute_result"
    }
   ],
   "source": [
    "bady_adj = []\n",
    "\n",
    "for i in bady_pairs:\n",
    "    if i[0] == 'sheets':\n",
    "        bady_adj.append(i[1])\n",
    "\n",
    "## using counter to get the count of all occurances\n",
    "bady_a = Counter(bady_adj).most_common(20)\n",
    "bady_a"
   ]
  },
  {
   "cell_type": "markdown",
   "metadata": {},
   "source": [
    "Unhappy yelpers mention adjectives like \"dirty\", \"clean\", and \"filthy\" near mentions of \"sheets\". This particular example really shows the problem with this method of analysis, since it's very likely that the word \"not\" is also being mentioned along with \"clean\" in this particular group of negative reviews, but this is not getting captured."
   ]
  },
  {
   "cell_type": "code",
   "execution_count": 151,
   "metadata": {},
   "outputs": [
    {
     "data": {
      "text/plain": [
       "[('friendly', 48),\n",
       " ('nice', 22),\n",
       " ('rude', 15),\n",
       " ('great', 14),\n",
       " ('other', 10),\n",
       " ('front', 9),\n",
       " ('lazy', 8),\n",
       " ('helpful', 7),\n",
       " ('good', 7),\n",
       " ('first', 5),\n",
       " ('acceptable', 5),\n",
       " ('pleasant', 5),\n",
       " ('few', 5),\n",
       " ('sure', 5),\n",
       " ('bad', 4),\n",
       " ('poor', 4),\n",
       " ('full', 4),\n",
       " ('last', 4),\n",
       " ('old', 4),\n",
       " ('busy', 4)]"
      ]
     },
     "execution_count": 151,
     "metadata": {},
     "output_type": "execute_result"
    }
   ],
   "source": [
    "bady_adj = []\n",
    "\n",
    "for i in bady_pairs:\n",
    "    if i[0] == 'staff':\n",
    "        bady_adj.append(i[1])\n",
    "\n",
    "## using counter to get the count of all occurances\n",
    "bady_s = Counter(bady_adj).most_common(20)\n",
    "bady_s"
   ]
  },
  {
   "cell_type": "markdown",
   "metadata": {},
   "source": [
    "Again, there is a mix of adjectives that MIGHT be interesting, but we don't know if there is a \"not\" in front of them (although \"lazy\" is a pretty brutal description here!)"
   ]
  },
  {
   "cell_type": "markdown",
   "metadata": {},
   "source": [
    "Now let's turn to TripAdvisor."
   ]
  },
  {
   "cell_type": "code",
   "execution_count": 140,
   "metadata": {},
   "outputs": [],
   "source": [
    "## empty list for the noun/adj pairs\n",
    "badt_pairs = []\n",
    "\n",
    "## looping through the tagged object and collecting noun/adj pairs\n",
    "for i,token in enumerate(badt_nlp):\n",
    "    if token.pos_ not in ('NOUN','PROPN'):\n",
    "        continue\n",
    "    for j in range(i-1, len(badt_nlp)):\n",
    "        if badt_nlp[j].pos_ == 'ADJ':\n",
    "            badt_pairs.append((str(token), str(badt_nlp[j])))\n",
    "            break"
   ]
  },
  {
   "cell_type": "code",
   "execution_count": 142,
   "metadata": {},
   "outputs": [
    {
     "data": {
      "text/plain": [
       "[('room', 1208),\n",
       " ('hotel', 782),\n",
       " ('night', 338),\n",
       " ('desk', 316),\n",
       " ('pool', 297),\n",
       " ('rooms', 278),\n",
       " ('service', 278),\n",
       " ('place', 255),\n",
       " ('time', 248),\n",
       " ('staff', 242),\n",
       " ('resort', 231),\n",
       " ('day', 209),\n",
       " ('bed', 182),\n",
       " ('area', 180),\n",
       " ('water', 164),\n",
       " ('property', 158),\n",
       " ('stay', 156),\n",
       " ('Hilton', 146),\n",
       " ('people', 143),\n",
       " ('food', 139)]"
      ]
     },
     "execution_count": 142,
     "metadata": {},
     "output_type": "execute_result"
    }
   ],
   "source": [
    "## empty list for most common nouns\n",
    "badt_n = []\n",
    "\n",
    "## appending just the nouns\n",
    "for i in badt_pairs:\n",
    "    badt_n.append(i[0])\n",
    "\n",
    "## using counter to get the count of all occurances\n",
    "badt_most = Counter(badt_n).most_common(20)\n",
    "badt_most"
   ]
  },
  {
   "cell_type": "markdown",
   "metadata": {},
   "source": [
    "Same as above, looking at just nouns isn't that interesting."
   ]
  },
  {
   "cell_type": "code",
   "execution_count": 143,
   "metadata": {},
   "outputs": [
    {
     "data": {
      "text/plain": [
       "[('nice', 15),\n",
       " ('main', 14),\n",
       " ('other', 10),\n",
       " ('small', 7),\n",
       " ('good', 6),\n",
       " ('several', 5),\n",
       " ('decent', 5),\n",
       " ('clean', 5),\n",
       " ('loud', 4),\n",
       " ('open', 4),\n",
       " ('fine', 4),\n",
       " ('entire', 4),\n",
       " ('bad', 4),\n",
       " ('rude', 4),\n",
       " ('quiet', 4),\n",
       " ('more', 4),\n",
       " ('average', 4),\n",
       " ('hot', 3),\n",
       " ('large', 3),\n",
       " ('public', 3)]"
      ]
     },
     "execution_count": 143,
     "metadata": {},
     "output_type": "execute_result"
    }
   ],
   "source": [
    "badt_adj = []\n",
    "\n",
    "## looping through the list of noun-adj pairs and pulling out adjs nearby to the word 'pool'\n",
    "for i in badt_pairs:\n",
    "    if i[0] == 'pool':\n",
    "        badt_adj.append(i[1])\n",
    "\n",
    "## using counter to get the count of all occurances\n",
    "badt_d = Counter(badt_adj).most_common(20)\n",
    "badt_d"
   ]
  },
  {
   "cell_type": "markdown",
   "metadata": {},
   "source": [
    "Looks like TripAdvisor users might be less focused on the dirtiness of the pools, compared with Yelpers. \"Dirty\" and \"filthy\" don't even appear on the list, though \"clean\" does."
   ]
  },
  {
   "cell_type": "code",
   "execution_count": 150,
   "metadata": {},
   "outputs": [
    {
     "data": {
      "text/plain": [
       "[('friendly', 31),\n",
       " ('nice', 13),\n",
       " ('rude', 9),\n",
       " ('helpful', 9),\n",
       " ('other', 7),\n",
       " ('great', 5),\n",
       " ('good', 5),\n",
       " ('more', 5),\n",
       " ('many', 4),\n",
       " ('unhelpful', 4),\n",
       " ('pleasant', 3),\n",
       " ('personal', 3),\n",
       " ('little', 3),\n",
       " ('loud', 3),\n",
       " ('new', 3),\n",
       " ('main', 3),\n",
       " ('poor', 3),\n",
       " ('amazing', 2),\n",
       " ('general', 2),\n",
       " ('wonderful', 2)]"
      ]
     },
     "execution_count": 150,
     "metadata": {},
     "output_type": "execute_result"
    }
   ],
   "source": [
    "badt_adj = []\n",
    "\n",
    "## looping through the list of noun-adj pairs and pulling out adjs nearby to the word 'staff'\n",
    "for i in badt_pairs:\n",
    "    if i[0] == 'staff':\n",
    "        badt_adj.append(i[1])\n",
    "\n",
    "## using counter to get the count of all occurances\n",
    "badt_s = Counter(badt_adj).most_common(20)\n",
    "badt_s"
   ]
  },
  {
   "cell_type": "markdown",
   "metadata": {},
   "source": [
    "No mentions of the word \"lazy\" appear near the word \"staff\" in TripAdvisor reviews, but again, it's hard to tell what people really feel about staff since we don't know if the positive words have a \"not\" in front of them."
   ]
  },
  {
   "cell_type": "markdown",
   "metadata": {},
   "source": [
    "### Looking at adjective freq"
   ]
  },
  {
   "cell_type": "markdown",
   "metadata": {},
   "source": [
    "Looking at individual adjectives don't give us much information, but perhaps looking at the frequencies of the POS will."
   ]
  },
  {
   "cell_type": "markdown",
   "metadata": {},
   "source": [
    "Negative Yelp reviews:"
   ]
  },
  {
   "cell_type": "code",
   "execution_count": 171,
   "metadata": {},
   "outputs": [
    {
     "data": {
      "text/plain": [
       "0.061"
      ]
     },
     "execution_count": 171,
     "metadata": {},
     "output_type": "execute_result"
    }
   ],
   "source": [
    "bady_all = []\n",
    "\n",
    "## looping through bad yelp reviews and appending all tokens labelled \"adj\"\n",
    "for i in bady_nlp:\n",
    "    if i.pos_ == 'ADJ':\n",
    "        bady_all.append(str(i))\n",
    "\n",
    "## dividing by length of review corpus\n",
    "round(len(bady_all)/len(bady_nlp), 3)"
   ]
  },
  {
   "cell_type": "markdown",
   "metadata": {},
   "source": [
    "Negative TripAdvisor reviews:"
   ]
  },
  {
   "cell_type": "code",
   "execution_count": 172,
   "metadata": {},
   "outputs": [
    {
     "data": {
      "text/plain": [
       "0.065"
      ]
     },
     "execution_count": 172,
     "metadata": {},
     "output_type": "execute_result"
    }
   ],
   "source": [
    "badt_all = []\n",
    "\n",
    "## looping through bad ta reviews and appending all tokens labelled \"adj\"\n",
    "for i in badt_nlp:\n",
    "    if i.pos_ == 'ADJ':\n",
    "        badt_all.append(str(i))\n",
    "\n",
    "## dividing by length of review corpus\n",
    "round(len(badt_all)/len(badt_nlp), 3)"
   ]
  },
  {
   "cell_type": "markdown",
   "metadata": {},
   "source": [
    "Positive Yelp reviews:"
   ]
  },
  {
   "cell_type": "code",
   "execution_count": 173,
   "metadata": {},
   "outputs": [
    {
     "data": {
      "text/plain": [
       "0.083"
      ]
     },
     "execution_count": 173,
     "metadata": {},
     "output_type": "execute_result"
    }
   ],
   "source": [
    "goody_all = []\n",
    "\n",
    "## looping through good yelp reviews and appending all tokens labelled \"adj\"\n",
    "for i in goody_nlp:\n",
    "    if i.pos_ == 'ADJ':\n",
    "        goody_all.append(str(i))\n",
    "\n",
    "## dividing by length of review corpus\n",
    "round(len(goody_all)/len(goody_nlp), 3)"
   ]
  },
  {
   "cell_type": "markdown",
   "metadata": {},
   "source": [
    "Positive TripAdvisor reviews:"
   ]
  },
  {
   "cell_type": "code",
   "execution_count": 174,
   "metadata": {},
   "outputs": [
    {
     "data": {
      "text/plain": [
       "0.085"
      ]
     },
     "execution_count": 174,
     "metadata": {},
     "output_type": "execute_result"
    }
   ],
   "source": [
    "goodt_all = []\n",
    "\n",
    "## looping through good ta reviews and appending all tokens labelled \"adj\"\n",
    "for i in goodt_nlp:\n",
    "    if i.pos_ == 'ADJ':\n",
    "        goodt_all.append(str(i))\n",
    "\n",
    "## dividing by length of review corpus\n",
    "round(len(goodt_all)/len(goodt_nlp), 3)"
   ]
  },
  {
   "cell_type": "markdown",
   "metadata": {},
   "source": [
    "While there doesn't appear to be a significant difference across platforms, it does appear that positive reviews have more adjectives per word count than negative reviews on both platforms."
   ]
  },
  {
   "cell_type": "markdown",
   "metadata": {},
   "source": [
    "### Conclusions"
   ]
  },
  {
   "cell_type": "markdown",
   "metadata": {},
   "source": [
    "Overall I found some relatively surprising results when I divided the data by positive/negative reviews, especially when it came to word counts and punctuation uses. I was particularly surpised that the length of TripAdvisor reviews changed so drastically when the review was positive/negative.\n",
    "\n",
    "I also learned a bit about reviews in general: for example, if your hotel has a pool, it's safe to say that reviewers will definitely be mentioning it (either positively or negatively) in their review! I also learned that TripAdvisor might have a profanity filter (searching on Google didn't turn up much)\n",
    "\n",
    "As for comparing texts between platforms, I'm still not sure if we can say that one platform is more \"refined\" than the other. Aside from the minor differences in positive/negative reviews on Yelp and TripAdvisor discussed, it seems that most reviewers on both platforms stick to similar topics when reviewing!"
   ]
  },
  {
   "cell_type": "markdown",
   "metadata": {},
   "source": [
    "There is definite room for improvement in pretty much every section of my analysis! If I had more time, I would have liked to try similar word count and tf-idf techniques but instead grouping by other variables such as hotel price, or reviews that were highly rated by other reviewers.\n",
    "\n",
    "My experimental addendum analysis could also do a better job of identifying adjectives associated with nouns, and could also potentially be improved using SpaCy's dependencies."
   ]
  },
  {
   "cell_type": "code",
   "execution_count": null,
   "metadata": {},
   "outputs": [],
   "source": []
  }
 ],
 "metadata": {
  "kernelspec": {
   "display_name": "Python 3",
   "language": "python",
   "name": "python3"
  },
  "language_info": {
   "codemirror_mode": {
    "name": "ipython",
    "version": 3
   },
   "file_extension": ".py",
   "mimetype": "text/x-python",
   "name": "python",
   "nbconvert_exporter": "python",
   "pygments_lexer": "ipython3",
   "version": "3.7.4"
  }
 },
 "nbformat": 4,
 "nbformat_minor": 4
}
